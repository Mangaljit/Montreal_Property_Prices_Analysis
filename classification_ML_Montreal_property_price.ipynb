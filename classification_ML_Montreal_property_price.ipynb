{
 "cells": [
  {
   "cell_type": "markdown",
   "metadata": {},
   "source": [
    "# Classification models to predict the property prices in Montreal, Canada."
   ]
  },
  {
   "cell_type": "markdown",
   "metadata": {},
   "source": [
    "We categorize our entire dataset into two levels. The first level assigned with a value of 0 will indicate a property price less 0.5 million dollars, while the second level assigned with a value of 1 will indicate a property price greater than 1.0 million dollars."
   ]
  },
  {
   "cell_type": "markdown",
   "metadata": {},
   "source": [
    "Load the required Python packages."
   ]
  },
  {
   "cell_type": "code",
   "execution_count": 1,
   "metadata": {},
   "outputs": [],
   "source": [
    "import os\n",
    "import time\n",
    "import numpy as np\n",
    "import pandas as pd\n",
    "import seaborn as sns\n",
    "import matplotlib.pyplot as plt\n",
    "from sklearn.metrics import accuracy_score\n",
    "from sklearn.metrics import confusion_matrix\n",
    "from sklearn.model_selection import GridSearchCV\n",
    "from sklearn.ensemble import RandomForestClassifier"
   ]
  },
  {
   "cell_type": "markdown",
   "metadata": {},
   "source": [
    "Start the clock for estimating the code execution time."
   ]
  },
  {
   "cell_type": "code",
   "execution_count": 2,
   "metadata": {},
   "outputs": [],
   "source": [
    "t00 = time.time()"
   ]
  },
  {
   "cell_type": "markdown",
   "metadata": {},
   "source": [
    "Load the dataset."
   ]
  },
  {
   "cell_type": "code",
   "execution_count": 3,
   "metadata": {},
   "outputs": [
    {
     "name": "stdout",
     "output_type": "stream",
     "text": [
      "(813, 3)\n"
     ]
    },
    {
     "data": {
      "text/html": [
       "<div>\n",
       "<style scoped>\n",
       "    .dataframe tbody tr th:only-of-type {\n",
       "        vertical-align: middle;\n",
       "    }\n",
       "\n",
       "    .dataframe tbody tr th {\n",
       "        vertical-align: top;\n",
       "    }\n",
       "\n",
       "    .dataframe thead th {\n",
       "        text-align: right;\n",
       "    }\n",
       "</style>\n",
       "<table border=\"1\" class=\"dataframe\">\n",
       "  <thead>\n",
       "    <tr style=\"text-align: right;\">\n",
       "      <th></th>\n",
       "      <th>price</th>\n",
       "      <th>region</th>\n",
       "      <th>bedrooms</th>\n",
       "    </tr>\n",
       "  </thead>\n",
       "  <tbody>\n",
       "    <tr>\n",
       "      <th>0</th>\n",
       "      <td>849000.0</td>\n",
       "      <td>Mercier / Hochelaga / Maisonneuve</td>\n",
       "      <td>3</td>\n",
       "    </tr>\n",
       "    <tr>\n",
       "      <th>1</th>\n",
       "      <td>420000.0</td>\n",
       "      <td>Villeray / St-Michel / Parc-Extension</td>\n",
       "      <td>2</td>\n",
       "    </tr>\n",
       "    <tr>\n",
       "      <th>2</th>\n",
       "      <td>699000.0</td>\n",
       "      <td>Pointe-Aux-Trembles / Montréal-Est</td>\n",
       "      <td>3</td>\n",
       "    </tr>\n",
       "    <tr>\n",
       "      <th>3</th>\n",
       "      <td>349000.0</td>\n",
       "      <td>Rosemont / La Petite Patrie</td>\n",
       "      <td>1</td>\n",
       "    </tr>\n",
       "    <tr>\n",
       "      <th>4</th>\n",
       "      <td>959000.0</td>\n",
       "      <td>Ahuntsic / Cartierville</td>\n",
       "      <td>4</td>\n",
       "    </tr>\n",
       "  </tbody>\n",
       "</table>\n",
       "</div>"
      ],
      "text/plain": [
       "      price                                 region  bedrooms\n",
       "0  849000.0      Mercier / Hochelaga / Maisonneuve         3\n",
       "1  420000.0  Villeray / St-Michel / Parc-Extension         2\n",
       "2  699000.0     Pointe-Aux-Trembles / Montréal-Est         3\n",
       "3  349000.0            Rosemont / La Petite Patrie         1\n",
       "4  959000.0                Ahuntsic / Cartierville         4"
      ]
     },
     "execution_count": 3,
     "metadata": {},
     "output_type": "execute_result"
    }
   ],
   "source": [
    "path = os.getcwd() +\"/clean_Montreal_property_listings.xlsx\"\n",
    "data = pd.read_excel(path)\n",
    "data.drop(columns= 'address', inplace= True)\n",
    "print(data.shape)\n",
    "data.head()"
   ]
  },
  {
   "cell_type": "markdown",
   "metadata": {},
   "source": [
    "Check NaN values."
   ]
  },
  {
   "cell_type": "code",
   "execution_count": 4,
   "metadata": {},
   "outputs": [
    {
     "data": {
      "text/plain": [
       "price       2\n",
       "region      0\n",
       "bedrooms    0\n",
       "dtype: int64"
      ]
     },
     "execution_count": 4,
     "metadata": {},
     "output_type": "execute_result"
    }
   ],
   "source": [
    "data.isna().sum()"
   ]
  },
  {
   "cell_type": "markdown",
   "metadata": {},
   "source": [
    "Drop the NaN values."
   ]
  },
  {
   "cell_type": "code",
   "execution_count": 5,
   "metadata": {},
   "outputs": [],
   "source": [
    "data.dropna(inplace= True)"
   ]
  },
  {
   "cell_type": "code",
   "execution_count": 6,
   "metadata": {},
   "outputs": [
    {
     "data": {
      "text/plain": [
       "price       0\n",
       "region      0\n",
       "bedrooms    0\n",
       "dtype: int64"
      ]
     },
     "execution_count": 6,
     "metadata": {},
     "output_type": "execute_result"
    }
   ],
   "source": [
    "data.isna().sum()"
   ]
  },
  {
   "cell_type": "markdown",
   "metadata": {},
   "source": [
    "Check the range of listing prices in different regions."
   ]
  },
  {
   "cell_type": "code",
   "execution_count": 7,
   "metadata": {},
   "outputs": [
    {
     "data": {
      "text/html": [
       "<div>\n",
       "<style scoped>\n",
       "    .dataframe tbody tr th:only-of-type {\n",
       "        vertical-align: middle;\n",
       "    }\n",
       "\n",
       "    .dataframe tbody tr th {\n",
       "        vertical-align: top;\n",
       "    }\n",
       "\n",
       "    .dataframe thead th {\n",
       "        text-align: right;\n",
       "    }\n",
       "</style>\n",
       "<table border=\"1\" class=\"dataframe\">\n",
       "  <thead>\n",
       "    <tr style=\"text-align: right;\">\n",
       "      <th></th>\n",
       "      <th>region</th>\n",
       "      <th>no_of_listings</th>\n",
       "      <th>mean_price</th>\n",
       "      <th>min_price</th>\n",
       "      <th>max_price</th>\n",
       "    </tr>\n",
       "  </thead>\n",
       "  <tbody>\n",
       "    <tr>\n",
       "      <th>0</th>\n",
       "      <td>Ville-Marie (Centre-Ville et Vieux Mtl)</td>\n",
       "      <td>143.0</td>\n",
       "      <td>622306.566</td>\n",
       "      <td>264900.0</td>\n",
       "      <td>2650000.0</td>\n",
       "    </tr>\n",
       "    <tr>\n",
       "      <th>1</th>\n",
       "      <td>Mercier / Hochelaga / Maisonneuve</td>\n",
       "      <td>87.0</td>\n",
       "      <td>616634.368</td>\n",
       "      <td>209000.0</td>\n",
       "      <td>2400000.0</td>\n",
       "    </tr>\n",
       "    <tr>\n",
       "      <th>2</th>\n",
       "      <td>Rosemont / La Petite Patrie</td>\n",
       "      <td>62.0</td>\n",
       "      <td>694286.452</td>\n",
       "      <td>265000.0</td>\n",
       "      <td>2750000.0</td>\n",
       "    </tr>\n",
       "    <tr>\n",
       "      <th>3</th>\n",
       "      <td>Ahuntsic / Cartierville</td>\n",
       "      <td>62.0</td>\n",
       "      <td>625556.435</td>\n",
       "      <td>239000.0</td>\n",
       "      <td>1569000.0</td>\n",
       "    </tr>\n",
       "    <tr>\n",
       "      <th>4</th>\n",
       "      <td>Villeray / St-Michel / Parc-Extension</td>\n",
       "      <td>53.0</td>\n",
       "      <td>701269.698</td>\n",
       "      <td>269000.0</td>\n",
       "      <td>2450000.0</td>\n",
       "    </tr>\n",
       "    <tr>\n",
       "      <th>5</th>\n",
       "      <td>Le Plateau-Mont-Royal</td>\n",
       "      <td>50.0</td>\n",
       "      <td>867939.400</td>\n",
       "      <td>275000.0</td>\n",
       "      <td>2995000.0</td>\n",
       "    </tr>\n",
       "    <tr>\n",
       "      <th>6</th>\n",
       "      <td>Le Sud-Ouest</td>\n",
       "      <td>46.0</td>\n",
       "      <td>677583.652</td>\n",
       "      <td>229500.0</td>\n",
       "      <td>1650000.0</td>\n",
       "    </tr>\n",
       "    <tr>\n",
       "      <th>7</th>\n",
       "      <td>Côte-des-Neiges / Notre-Dame-de-Grâce</td>\n",
       "      <td>41.0</td>\n",
       "      <td>646209.756</td>\n",
       "      <td>265000.0</td>\n",
       "      <td>2850000.0</td>\n",
       "    </tr>\n",
       "    <tr>\n",
       "      <th>8</th>\n",
       "      <td>Saint-Laurent</td>\n",
       "      <td>39.0</td>\n",
       "      <td>689064.436</td>\n",
       "      <td>295000.0</td>\n",
       "      <td>1750000.0</td>\n",
       "    </tr>\n",
       "    <tr>\n",
       "      <th>9</th>\n",
       "      <td>Griffintown</td>\n",
       "      <td>29.0</td>\n",
       "      <td>495055.172</td>\n",
       "      <td>259000.0</td>\n",
       "      <td>810000.0</td>\n",
       "    </tr>\n",
       "    <tr>\n",
       "      <th>10</th>\n",
       "      <td>Pointe-Aux-Trembles / Montréal-Est</td>\n",
       "      <td>24.0</td>\n",
       "      <td>514920.833</td>\n",
       "      <td>265000.0</td>\n",
       "      <td>1238000.0</td>\n",
       "    </tr>\n",
       "    <tr>\n",
       "      <th>11</th>\n",
       "      <td>Rivière des Prairies</td>\n",
       "      <td>19.0</td>\n",
       "      <td>560305.211</td>\n",
       "      <td>289000.0</td>\n",
       "      <td>989000.0</td>\n",
       "    </tr>\n",
       "    <tr>\n",
       "      <th>12</th>\n",
       "      <td>Pierrefonds / Roxboro</td>\n",
       "      <td>17.0</td>\n",
       "      <td>850517.647</td>\n",
       "      <td>380000.0</td>\n",
       "      <td>2749000.0</td>\n",
       "    </tr>\n",
       "    <tr>\n",
       "      <th>13</th>\n",
       "      <td>Verdun</td>\n",
       "      <td>17.0</td>\n",
       "      <td>786876.471</td>\n",
       "      <td>295000.0</td>\n",
       "      <td>1790000.0</td>\n",
       "    </tr>\n",
       "    <tr>\n",
       "      <th>14</th>\n",
       "      <td>L'Ile Des Soeurs</td>\n",
       "      <td>17.0</td>\n",
       "      <td>836540.118</td>\n",
       "      <td>310760.0</td>\n",
       "      <td>1800000.0</td>\n",
       "    </tr>\n",
       "    <tr>\n",
       "      <th>15</th>\n",
       "      <td>LaSalle</td>\n",
       "      <td>16.0</td>\n",
       "      <td>709196.812</td>\n",
       "      <td>329999.0</td>\n",
       "      <td>1245000.0</td>\n",
       "    </tr>\n",
       "    <tr>\n",
       "      <th>16</th>\n",
       "      <td>Anjou</td>\n",
       "      <td>16.0</td>\n",
       "      <td>611900.000</td>\n",
       "      <td>224900.0</td>\n",
       "      <td>1200000.0</td>\n",
       "    </tr>\n",
       "    <tr>\n",
       "      <th>17</th>\n",
       "      <td>Montréal-Nord</td>\n",
       "      <td>15.0</td>\n",
       "      <td>629253.200</td>\n",
       "      <td>270000.0</td>\n",
       "      <td>1499999.0</td>\n",
       "    </tr>\n",
       "    <tr>\n",
       "      <th>18</th>\n",
       "      <td>Lachine</td>\n",
       "      <td>14.0</td>\n",
       "      <td>603921.429</td>\n",
       "      <td>375000.0</td>\n",
       "      <td>895000.0</td>\n",
       "    </tr>\n",
       "    <tr>\n",
       "      <th>19</th>\n",
       "      <td>Côte-St-Luc / Hampstead / Montréal-Ouest</td>\n",
       "      <td>8.0</td>\n",
       "      <td>633587.500</td>\n",
       "      <td>245000.0</td>\n",
       "      <td>1500000.0</td>\n",
       "    </tr>\n",
       "    <tr>\n",
       "      <th>20</th>\n",
       "      <td>Saint-Léonard</td>\n",
       "      <td>8.0</td>\n",
       "      <td>595987.500</td>\n",
       "      <td>309000.0</td>\n",
       "      <td>1475000.0</td>\n",
       "    </tr>\n",
       "    <tr>\n",
       "      <th>21</th>\n",
       "      <td>Pointe-Claire</td>\n",
       "      <td>6.0</td>\n",
       "      <td>857166.667</td>\n",
       "      <td>450000.0</td>\n",
       "      <td>1599000.0</td>\n",
       "    </tr>\n",
       "    <tr>\n",
       "      <th>22</th>\n",
       "      <td>Dollard-Des-Ormeaux</td>\n",
       "      <td>4.0</td>\n",
       "      <td>560500.000</td>\n",
       "      <td>259000.0</td>\n",
       "      <td>779000.0</td>\n",
       "    </tr>\n",
       "    <tr>\n",
       "      <th>23</th>\n",
       "      <td>L'île-Bizard / Sainte-Geneviève</td>\n",
       "      <td>3.0</td>\n",
       "      <td>1215666.667</td>\n",
       "      <td>449000.0</td>\n",
       "      <td>1599000.0</td>\n",
       "    </tr>\n",
       "    <tr>\n",
       "      <th>24</th>\n",
       "      <td>Kirkland</td>\n",
       "      <td>3.0</td>\n",
       "      <td>1195666.667</td>\n",
       "      <td>769000.0</td>\n",
       "      <td>1849000.0</td>\n",
       "    </tr>\n",
       "    <tr>\n",
       "      <th>25</th>\n",
       "      <td>Dorval / L'Île Dorval</td>\n",
       "      <td>3.0</td>\n",
       "      <td>1001333.333</td>\n",
       "      <td>499000.0</td>\n",
       "      <td>1550000.0</td>\n",
       "    </tr>\n",
       "    <tr>\n",
       "      <th>26</th>\n",
       "      <td>Outremont</td>\n",
       "      <td>2.0</td>\n",
       "      <td>737500.000</td>\n",
       "      <td>615000.0</td>\n",
       "      <td>860000.0</td>\n",
       "    </tr>\n",
       "    <tr>\n",
       "      <th>27</th>\n",
       "      <td>Mont-Royal</td>\n",
       "      <td>2.0</td>\n",
       "      <td>502000.000</td>\n",
       "      <td>425000.0</td>\n",
       "      <td>579000.0</td>\n",
       "    </tr>\n",
       "    <tr>\n",
       "      <th>28</th>\n",
       "      <td>Beaconsfield / Baie-D'Urfé</td>\n",
       "      <td>2.0</td>\n",
       "      <td>1439000.000</td>\n",
       "      <td>878000.0</td>\n",
       "      <td>2000000.0</td>\n",
       "    </tr>\n",
       "    <tr>\n",
       "      <th>29</th>\n",
       "      <td>Westmount</td>\n",
       "      <td>2.0</td>\n",
       "      <td>941500.000</td>\n",
       "      <td>495000.0</td>\n",
       "      <td>1388000.0</td>\n",
       "    </tr>\n",
       "    <tr>\n",
       "      <th>30</th>\n",
       "      <td>Ste-Anne-De-Bellevue</td>\n",
       "      <td>1.0</td>\n",
       "      <td>539000.000</td>\n",
       "      <td>539000.0</td>\n",
       "      <td>539000.0</td>\n",
       "    </tr>\n",
       "  </tbody>\n",
       "</table>\n",
       "</div>"
      ],
      "text/plain": [
       "                                      region  no_of_listings   mean_price  \\\n",
       "0    Ville-Marie (Centre-Ville et Vieux Mtl)           143.0   622306.566   \n",
       "1          Mercier / Hochelaga / Maisonneuve            87.0   616634.368   \n",
       "2                Rosemont / La Petite Patrie            62.0   694286.452   \n",
       "3                    Ahuntsic / Cartierville            62.0   625556.435   \n",
       "4      Villeray / St-Michel / Parc-Extension            53.0   701269.698   \n",
       "5                      Le Plateau-Mont-Royal            50.0   867939.400   \n",
       "6                               Le Sud-Ouest            46.0   677583.652   \n",
       "7      Côte-des-Neiges / Notre-Dame-de-Grâce            41.0   646209.756   \n",
       "8                              Saint-Laurent            39.0   689064.436   \n",
       "9                                Griffintown            29.0   495055.172   \n",
       "10        Pointe-Aux-Trembles / Montréal-Est            24.0   514920.833   \n",
       "11                      Rivière des Prairies            19.0   560305.211   \n",
       "12                     Pierrefonds / Roxboro            17.0   850517.647   \n",
       "13                                    Verdun            17.0   786876.471   \n",
       "14                          L'Ile Des Soeurs            17.0   836540.118   \n",
       "15                                   LaSalle            16.0   709196.812   \n",
       "16                                     Anjou            16.0   611900.000   \n",
       "17                             Montréal-Nord            15.0   629253.200   \n",
       "18                                   Lachine            14.0   603921.429   \n",
       "19  Côte-St-Luc / Hampstead / Montréal-Ouest             8.0   633587.500   \n",
       "20                             Saint-Léonard             8.0   595987.500   \n",
       "21                             Pointe-Claire             6.0   857166.667   \n",
       "22                       Dollard-Des-Ormeaux             4.0   560500.000   \n",
       "23           L'île-Bizard / Sainte-Geneviève             3.0  1215666.667   \n",
       "24                                  Kirkland             3.0  1195666.667   \n",
       "25                     Dorval / L'Île Dorval             3.0  1001333.333   \n",
       "26                                 Outremont             2.0   737500.000   \n",
       "27                                Mont-Royal             2.0   502000.000   \n",
       "28                Beaconsfield / Baie-D'Urfé             2.0  1439000.000   \n",
       "29                                 Westmount             2.0   941500.000   \n",
       "30                      Ste-Anne-De-Bellevue             1.0   539000.000   \n",
       "\n",
       "    min_price  max_price  \n",
       "0    264900.0  2650000.0  \n",
       "1    209000.0  2400000.0  \n",
       "2    265000.0  2750000.0  \n",
       "3    239000.0  1569000.0  \n",
       "4    269000.0  2450000.0  \n",
       "5    275000.0  2995000.0  \n",
       "6    229500.0  1650000.0  \n",
       "7    265000.0  2850000.0  \n",
       "8    295000.0  1750000.0  \n",
       "9    259000.0   810000.0  \n",
       "10   265000.0  1238000.0  \n",
       "11   289000.0   989000.0  \n",
       "12   380000.0  2749000.0  \n",
       "13   295000.0  1790000.0  \n",
       "14   310760.0  1800000.0  \n",
       "15   329999.0  1245000.0  \n",
       "16   224900.0  1200000.0  \n",
       "17   270000.0  1499999.0  \n",
       "18   375000.0   895000.0  \n",
       "19   245000.0  1500000.0  \n",
       "20   309000.0  1475000.0  \n",
       "21   450000.0  1599000.0  \n",
       "22   259000.0   779000.0  \n",
       "23   449000.0  1599000.0  \n",
       "24   769000.0  1849000.0  \n",
       "25   499000.0  1550000.0  \n",
       "26   615000.0   860000.0  \n",
       "27   425000.0   579000.0  \n",
       "28   878000.0  2000000.0  \n",
       "29   495000.0  1388000.0  \n",
       "30   539000.0   539000.0  "
      ]
     },
     "execution_count": 7,
     "metadata": {},
     "output_type": "execute_result"
    }
   ],
   "source": [
    "data_describe = data.groupby('region')['price'].describe().reset_index()[['region','count', 'mean', 'min', 'max']].round(3)\n",
    "data_describe.sort_values(by= 'count', ascending= False, inplace= True)\n",
    "data_describe.rename(columns= \n",
    "    {'count' : 'no_of_listings',\n",
    "    'mean': 'mean_price',\n",
    "    'min' : 'min_price',\n",
    "    'max' : 'max_price'}).reset_index().drop(columns= ['index'])"
   ]
  },
  {
   "cell_type": "markdown",
   "metadata": {},
   "source": [
    "The exploratory data analysis showed that both, the region where the property is located, as well as the number of bedrooms a property has are important factors in deciding the listing price of the property.\n",
    "\n",
    "Therefore, we would like to predict the price of a house using the two features, named **region** and **bedrooms**.\n",
    "\n",
    "Add a new column into the dataframe named **pricem** showing house price in the units of Million dollars."
   ]
  },
  {
   "cell_type": "code",
   "execution_count": 8,
   "metadata": {},
   "outputs": [],
   "source": [
    "data['pricem'] = data['price']/1e6"
   ]
  },
  {
   "cell_type": "markdown",
   "metadata": {},
   "source": [
    "The exploratory data analysis also showed that majority of the house prices in the dataset were between 0.2-1.4 Million dollars.\n",
    "\n",
    "For our machine learning model building, we keep the houses with price less than 1.0 Million dollars."
   ]
  },
  {
   "cell_type": "code",
   "execution_count": 9,
   "metadata": {},
   "outputs": [],
   "source": [
    "data = data.loc[data.pricem < 1.0]"
   ]
  },
  {
   "cell_type": "code",
   "execution_count": 10,
   "metadata": {},
   "outputs": [
    {
     "name": "stdout",
     "output_type": "stream",
     "text": [
      "The maximum price a house has in the dataframe is 0.99955 Million dollars, while the minimum price is 0.209 Million dollars.\n"
     ]
    }
   ],
   "source": [
    "print('The maximum price a house has in the dataframe is', max(data.pricem), 'Million dollars, while the minimum price is', min(data.pricem), 'Million dollars.')"
   ]
  },
  {
   "cell_type": "code",
   "execution_count": 11,
   "metadata": {},
   "outputs": [
    {
     "data": {
      "image/png": "[encoded data removed]",
      "text/plain": [
       "<Figure size 576x360 with 1 Axes>"
      ]
     },
     "metadata": {},
     "output_type": "display_data"
    }
   ],
   "source": [
    "sns.set(font_scale=2)\n",
    "plt.figure(figsize=(8,5))\n",
    "sns.distplot(data.pricem, color= 'green')\n",
    "plt.xlabel('Price in Million Dollars')\n",
    "plt.ylabel('Density');"
   ]
  },
  {
   "cell_type": "markdown",
   "metadata": {},
   "source": [
    "Assign a label 0 to the properties with listing price less than 0.5 million dollars, and a label 1 to the properties with listing price more than 0.5 million dollars."
   ]
  },
  {
   "cell_type": "code",
   "execution_count": 12,
   "metadata": {},
   "outputs": [
    {
     "data": {
      "text/html": [
       "<div>\n",
       "<style scoped>\n",
       "    .dataframe tbody tr th:only-of-type {\n",
       "        vertical-align: middle;\n",
       "    }\n",
       "\n",
       "    .dataframe tbody tr th {\n",
       "        vertical-align: top;\n",
       "    }\n",
       "\n",
       "    .dataframe thead th {\n",
       "        text-align: right;\n",
       "    }\n",
       "</style>\n",
       "<table border=\"1\" class=\"dataframe\">\n",
       "  <thead>\n",
       "    <tr style=\"text-align: right;\">\n",
       "      <th></th>\n",
       "      <th>price</th>\n",
       "      <th>region</th>\n",
       "      <th>bedrooms</th>\n",
       "      <th>pricem</th>\n",
       "      <th>label</th>\n",
       "    </tr>\n",
       "  </thead>\n",
       "  <tbody>\n",
       "    <tr>\n",
       "      <th>0</th>\n",
       "      <td>849000.0</td>\n",
       "      <td>Mercier / Hochelaga / Maisonneuve</td>\n",
       "      <td>3</td>\n",
       "      <td>0.849</td>\n",
       "      <td>1</td>\n",
       "    </tr>\n",
       "    <tr>\n",
       "      <th>1</th>\n",
       "      <td>420000.0</td>\n",
       "      <td>Villeray / St-Michel / Parc-Extension</td>\n",
       "      <td>2</td>\n",
       "      <td>0.420</td>\n",
       "      <td>0</td>\n",
       "    </tr>\n",
       "    <tr>\n",
       "      <th>2</th>\n",
       "      <td>699000.0</td>\n",
       "      <td>Pointe-Aux-Trembles / Montréal-Est</td>\n",
       "      <td>3</td>\n",
       "      <td>0.699</td>\n",
       "      <td>1</td>\n",
       "    </tr>\n",
       "    <tr>\n",
       "      <th>3</th>\n",
       "      <td>349000.0</td>\n",
       "      <td>Rosemont / La Petite Patrie</td>\n",
       "      <td>1</td>\n",
       "      <td>0.349</td>\n",
       "      <td>0</td>\n",
       "    </tr>\n",
       "    <tr>\n",
       "      <th>4</th>\n",
       "      <td>959000.0</td>\n",
       "      <td>Ahuntsic / Cartierville</td>\n",
       "      <td>4</td>\n",
       "      <td>0.959</td>\n",
       "      <td>1</td>\n",
       "    </tr>\n",
       "  </tbody>\n",
       "</table>\n",
       "</div>"
      ],
      "text/plain": [
       "      price                                 region  bedrooms  pricem  label\n",
       "0  849000.0      Mercier / Hochelaga / Maisonneuve         3   0.849      1\n",
       "1  420000.0  Villeray / St-Michel / Parc-Extension         2   0.420      0\n",
       "2  699000.0     Pointe-Aux-Trembles / Montréal-Est         3   0.699      1\n",
       "3  349000.0            Rosemont / La Petite Patrie         1   0.349      0\n",
       "4  959000.0                Ahuntsic / Cartierville         4   0.959      1"
      ]
     },
     "execution_count": 12,
     "metadata": {},
     "output_type": "execute_result"
    }
   ],
   "source": [
    "data['label'] = 0\n",
    "data.loc[data.pricem < 0.5, 'label'] = 0\n",
    "data.loc[data.pricem > 0.5, 'label'] = 1\n",
    "data.head()"
   ]
  },
  {
   "cell_type": "code",
   "execution_count": 13,
   "metadata": {},
   "outputs": [],
   "source": [
    "data['label'] = data['label'].apply(lambda x : int(x))"
   ]
  },
  {
   "cell_type": "code",
   "execution_count": 14,
   "metadata": {},
   "outputs": [
    {
     "data": {
      "text/plain": [
       "price       float64\n",
       "region       object\n",
       "bedrooms      int64\n",
       "pricem      float64\n",
       "label         int64\n",
       "dtype: object"
      ]
     },
     "execution_count": 14,
     "metadata": {},
     "output_type": "execute_result"
    }
   ],
   "source": [
    "data.dtypes"
   ]
  },
  {
   "cell_type": "code",
   "execution_count": 15,
   "metadata": {},
   "outputs": [
    {
     "name": "stdout",
     "output_type": "stream",
     "text": [
      "(711, 5)\n"
     ]
    }
   ],
   "source": [
    "print(data.shape)"
   ]
  },
  {
   "cell_type": "code",
   "execution_count": 16,
   "metadata": {},
   "outputs": [
    {
     "name": "stdout",
     "output_type": "stream",
     "text": [
      "711\n"
     ]
    },
    {
     "data": {
      "text/plain": [
       "0      1\n",
       "1      0\n",
       "2      1\n",
       "3      0\n",
       "4      1\n",
       "      ..\n",
       "808    0\n",
       "809    1\n",
       "810    0\n",
       "811    0\n",
       "812    0\n",
       "Name: label, Length: 711, dtype: int64"
      ]
     },
     "execution_count": 16,
     "metadata": {},
     "output_type": "execute_result"
    }
   ],
   "source": [
    "Y = data.label\n",
    "print(len(Y))\n",
    "Y"
   ]
  },
  {
   "cell_type": "code",
   "execution_count": 17,
   "metadata": {},
   "outputs": [
    {
     "data": {
      "text/plain": [
       "array([1, 0])"
      ]
     },
     "execution_count": 17,
     "metadata": {},
     "output_type": "execute_result"
    }
   ],
   "source": [
    "Y.unique()"
   ]
  },
  {
   "cell_type": "markdown",
   "metadata": {},
   "source": [
    "Get dummy variables for the **region** column."
   ]
  },
  {
   "cell_type": "code",
   "execution_count": 18,
   "metadata": {},
   "outputs": [
    {
     "name": "stdout",
     "output_type": "stream",
     "text": [
      "(711, 32)\n"
     ]
    },
    {
     "data": {
      "text/html": [
       "<div>\n",
       "<style scoped>\n",
       "    .dataframe tbody tr th:only-of-type {\n",
       "        vertical-align: middle;\n",
       "    }\n",
       "\n",
       "    .dataframe tbody tr th {\n",
       "        vertical-align: top;\n",
       "    }\n",
       "\n",
       "    .dataframe thead th {\n",
       "        text-align: right;\n",
       "    }\n",
       "</style>\n",
       "<table border=\"1\" class=\"dataframe\">\n",
       "  <thead>\n",
       "    <tr style=\"text-align: right;\">\n",
       "      <th></th>\n",
       "      <th>bedrooms</th>\n",
       "      <th>region_Ahuntsic / Cartierville</th>\n",
       "      <th>region_Anjou</th>\n",
       "      <th>region_Beaconsfield / Baie-D'Urfé</th>\n",
       "      <th>region_Côte-St-Luc / Hampstead / Montréal-Ouest</th>\n",
       "      <th>region_Côte-des-Neiges / Notre-Dame-de-Grâce</th>\n",
       "      <th>region_Dollard-Des-Ormeaux</th>\n",
       "      <th>region_Dorval / L'Île Dorval</th>\n",
       "      <th>region_Griffintown</th>\n",
       "      <th>region_Kirkland</th>\n",
       "      <th>...</th>\n",
       "      <th>region_Pointe-Claire</th>\n",
       "      <th>region_Rivière des Prairies</th>\n",
       "      <th>region_Rosemont / La Petite Patrie</th>\n",
       "      <th>region_Saint-Laurent</th>\n",
       "      <th>region_Saint-Léonard</th>\n",
       "      <th>region_Ste-Anne-De-Bellevue</th>\n",
       "      <th>region_Verdun</th>\n",
       "      <th>region_Ville-Marie (Centre-Ville et Vieux Mtl)</th>\n",
       "      <th>region_Villeray / St-Michel / Parc-Extension</th>\n",
       "      <th>region_Westmount</th>\n",
       "    </tr>\n",
       "  </thead>\n",
       "  <tbody>\n",
       "    <tr>\n",
       "      <th>0</th>\n",
       "      <td>3</td>\n",
       "      <td>0</td>\n",
       "      <td>0</td>\n",
       "      <td>0</td>\n",
       "      <td>0</td>\n",
       "      <td>0</td>\n",
       "      <td>0</td>\n",
       "      <td>0</td>\n",
       "      <td>0</td>\n",
       "      <td>0</td>\n",
       "      <td>...</td>\n",
       "      <td>0</td>\n",
       "      <td>0</td>\n",
       "      <td>0</td>\n",
       "      <td>0</td>\n",
       "      <td>0</td>\n",
       "      <td>0</td>\n",
       "      <td>0</td>\n",
       "      <td>0</td>\n",
       "      <td>0</td>\n",
       "      <td>0</td>\n",
       "    </tr>\n",
       "    <tr>\n",
       "      <th>1</th>\n",
       "      <td>2</td>\n",
       "      <td>0</td>\n",
       "      <td>0</td>\n",
       "      <td>0</td>\n",
       "      <td>0</td>\n",
       "      <td>0</td>\n",
       "      <td>0</td>\n",
       "      <td>0</td>\n",
       "      <td>0</td>\n",
       "      <td>0</td>\n",
       "      <td>...</td>\n",
       "      <td>0</td>\n",
       "      <td>0</td>\n",
       "      <td>0</td>\n",
       "      <td>0</td>\n",
       "      <td>0</td>\n",
       "      <td>0</td>\n",
       "      <td>0</td>\n",
       "      <td>0</td>\n",
       "      <td>1</td>\n",
       "      <td>0</td>\n",
       "    </tr>\n",
       "    <tr>\n",
       "      <th>2</th>\n",
       "      <td>3</td>\n",
       "      <td>0</td>\n",
       "      <td>0</td>\n",
       "      <td>0</td>\n",
       "      <td>0</td>\n",
       "      <td>0</td>\n",
       "      <td>0</td>\n",
       "      <td>0</td>\n",
       "      <td>0</td>\n",
       "      <td>0</td>\n",
       "      <td>...</td>\n",
       "      <td>0</td>\n",
       "      <td>0</td>\n",
       "      <td>0</td>\n",
       "      <td>0</td>\n",
       "      <td>0</td>\n",
       "      <td>0</td>\n",
       "      <td>0</td>\n",
       "      <td>0</td>\n",
       "      <td>0</td>\n",
       "      <td>0</td>\n",
       "    </tr>\n",
       "    <tr>\n",
       "      <th>3</th>\n",
       "      <td>1</td>\n",
       "      <td>0</td>\n",
       "      <td>0</td>\n",
       "      <td>0</td>\n",
       "      <td>0</td>\n",
       "      <td>0</td>\n",
       "      <td>0</td>\n",
       "      <td>0</td>\n",
       "      <td>0</td>\n",
       "      <td>0</td>\n",
       "      <td>...</td>\n",
       "      <td>0</td>\n",
       "      <td>0</td>\n",
       "      <td>1</td>\n",
       "      <td>0</td>\n",
       "      <td>0</td>\n",
       "      <td>0</td>\n",
       "      <td>0</td>\n",
       "      <td>0</td>\n",
       "      <td>0</td>\n",
       "      <td>0</td>\n",
       "    </tr>\n",
       "    <tr>\n",
       "      <th>4</th>\n",
       "      <td>4</td>\n",
       "      <td>1</td>\n",
       "      <td>0</td>\n",
       "      <td>0</td>\n",
       "      <td>0</td>\n",
       "      <td>0</td>\n",
       "      <td>0</td>\n",
       "      <td>0</td>\n",
       "      <td>0</td>\n",
       "      <td>0</td>\n",
       "      <td>...</td>\n",
       "      <td>0</td>\n",
       "      <td>0</td>\n",
       "      <td>0</td>\n",
       "      <td>0</td>\n",
       "      <td>0</td>\n",
       "      <td>0</td>\n",
       "      <td>0</td>\n",
       "      <td>0</td>\n",
       "      <td>0</td>\n",
       "      <td>0</td>\n",
       "    </tr>\n",
       "  </tbody>\n",
       "</table>\n",
       "<p>5 rows × 32 columns</p>\n",
       "</div>"
      ],
      "text/plain": [
       "   bedrooms  region_Ahuntsic / Cartierville  region_Anjou  \\\n",
       "0         3                               0             0   \n",
       "1         2                               0             0   \n",
       "2         3                               0             0   \n",
       "3         1                               0             0   \n",
       "4         4                               1             0   \n",
       "\n",
       "   region_Beaconsfield / Baie-D'Urfé  \\\n",
       "0                                  0   \n",
       "1                                  0   \n",
       "2                                  0   \n",
       "3                                  0   \n",
       "4                                  0   \n",
       "\n",
       "   region_Côte-St-Luc / Hampstead / Montréal-Ouest  \\\n",
       "0                                                0   \n",
       "1                                                0   \n",
       "2                                                0   \n",
       "3                                                0   \n",
       "4                                                0   \n",
       "\n",
       "   region_Côte-des-Neiges / Notre-Dame-de-Grâce  region_Dollard-Des-Ormeaux  \\\n",
       "0                                             0                           0   \n",
       "1                                             0                           0   \n",
       "2                                             0                           0   \n",
       "3                                             0                           0   \n",
       "4                                             0                           0   \n",
       "\n",
       "   region_Dorval / L'Île Dorval  region_Griffintown  region_Kirkland  ...  \\\n",
       "0                             0                   0                0  ...   \n",
       "1                             0                   0                0  ...   \n",
       "2                             0                   0                0  ...   \n",
       "3                             0                   0                0  ...   \n",
       "4                             0                   0                0  ...   \n",
       "\n",
       "   region_Pointe-Claire  region_Rivière des Prairies  \\\n",
       "0                     0                            0   \n",
       "1                     0                            0   \n",
       "2                     0                            0   \n",
       "3                     0                            0   \n",
       "4                     0                            0   \n",
       "\n",
       "   region_Rosemont / La Petite Patrie  region_Saint-Laurent  \\\n",
       "0                                   0                     0   \n",
       "1                                   0                     0   \n",
       "2                                   0                     0   \n",
       "3                                   1                     0   \n",
       "4                                   0                     0   \n",
       "\n",
       "   region_Saint-Léonard  region_Ste-Anne-De-Bellevue  region_Verdun  \\\n",
       "0                     0                            0              0   \n",
       "1                     0                            0              0   \n",
       "2                     0                            0              0   \n",
       "3                     0                            0              0   \n",
       "4                     0                            0              0   \n",
       "\n",
       "   region_Ville-Marie (Centre-Ville et Vieux Mtl)  \\\n",
       "0                                               0   \n",
       "1                                               0   \n",
       "2                                               0   \n",
       "3                                               0   \n",
       "4                                               0   \n",
       "\n",
       "   region_Villeray / St-Michel / Parc-Extension  region_Westmount  \n",
       "0                                             0                 0  \n",
       "1                                             1                 0  \n",
       "2                                             0                 0  \n",
       "3                                             0                 0  \n",
       "4                                             0                 0  \n",
       "\n",
       "[5 rows x 32 columns]"
      ]
     },
     "execution_count": 18,
     "metadata": {},
     "output_type": "execute_result"
    }
   ],
   "source": [
    "X = pd.get_dummies(data.drop(columns= [\"price\", \"pricem\", \"label\"]), prefix= 'region')\n",
    "print(X.shape)\n",
    "X.head()"
   ]
  },
  {
   "cell_type": "markdown",
   "metadata": {},
   "source": [
    "Split data into training and testing datasets."
   ]
  },
  {
   "cell_type": "code",
   "execution_count": 19,
   "metadata": {},
   "outputs": [],
   "source": [
    "from sklearn.model_selection import train_test_split\n",
    "X_train, X_test, Y_train, Y_test  = train_test_split(X, Y, train_size= 0.7, random_state= 1)"
   ]
  },
  {
   "cell_type": "markdown",
   "metadata": {},
   "source": [
    "Training dataset contains 70% of the total data."
   ]
  },
  {
   "cell_type": "code",
   "execution_count": 20,
   "metadata": {},
   "outputs": [
    {
     "name": "stdout",
     "output_type": "stream",
     "text": [
      "(497, 32)\n",
      "(214, 32)\n",
      "(497,)\n",
      "(214,)\n"
     ]
    }
   ],
   "source": [
    "print(X_train.shape)\n",
    "print(X_test.shape)\n",
    "print(Y_train.shape)\n",
    "print(Y_test.shape)"
   ]
  },
  {
   "cell_type": "markdown",
   "metadata": {},
   "source": [
    "## K-Nearest Neighbors Model"
   ]
  },
  {
   "cell_type": "code",
   "execution_count": 21,
   "metadata": {},
   "outputs": [
    {
     "data": {
      "text/plain": [
       "KNeighborsClassifier()"
      ]
     },
     "execution_count": 21,
     "metadata": {},
     "output_type": "execute_result"
    }
   ],
   "source": [
    "from sklearn.neighbors import KNeighborsClassifier\n",
    "knn = KNeighborsClassifier()\n",
    "knn.fit(X_train, Y_train)"
   ]
  },
  {
   "cell_type": "code",
   "execution_count": 22,
   "metadata": {},
   "outputs": [
    {
     "data": {
      "text/plain": [
       "0.7149532710280374"
      ]
     },
     "execution_count": 22,
     "metadata": {},
     "output_type": "execute_result"
    }
   ],
   "source": [
    "accuracy_score(Y_test, knn.predict(X_test))"
   ]
  },
  {
   "cell_type": "markdown",
   "metadata": {},
   "source": [
    "GridSearchCV for hyperparameter tuning."
   ]
  },
  {
   "cell_type": "code",
   "execution_count": 23,
   "metadata": {},
   "outputs": [
    {
     "name": "stdout",
     "output_type": "stream",
     "text": [
      "Hyperparameter tuning for the K-Nearest Neighbors model took 34.00683307647705 seconds.\n"
     ]
    }
   ],
   "source": [
    "t0 = time.time()\n",
    "parameters = {\n",
    "    'n_neighbors' : range(1,15),\n",
    "    'weights' : ('uniform', 'distance'),\n",
    "    'algorithm' : ('auto', 'ball_tree', 'kd_tree', 'brute'),\n",
    "    'p' : range(1,4)\n",
    "}\n",
    "gs_knn = GridSearchCV(\n",
    "    estimator= knn,\n",
    "    param_grid= parameters,\n",
    "    cv = 5,\n",
    "    return_train_score= True\n",
    "    )\n",
    "gs_knn.fit(X_train, Y_train)\n",
    "time_knn = time.time()-t0\n",
    "print('Hyperparameter tuning for the K-Nearest Neighbors model took', time_knn, 'seconds.')"
   ]
  },
  {
   "cell_type": "markdown",
   "metadata": {},
   "source": [
    "Best score obtained for the hyperparameter tuning cross-validation."
   ]
  },
  {
   "cell_type": "code",
   "execution_count": 24,
   "metadata": {},
   "outputs": [
    {
     "data": {
      "text/plain": [
       "0.7886666666666666"
      ]
     },
     "execution_count": 24,
     "metadata": {},
     "output_type": "execute_result"
    }
   ],
   "source": [
    "gs_knn.best_score_"
   ]
  },
  {
   "cell_type": "markdown",
   "metadata": {},
   "source": [
    "Best parameter values after the hyperparameter tuning."
   ]
  },
  {
   "cell_type": "code",
   "execution_count": 25,
   "metadata": {},
   "outputs": [
    {
     "data": {
      "text/plain": [
       "{'algorithm': 'auto', 'n_neighbors': 8, 'p': 1, 'weights': 'distance'}"
      ]
     },
     "execution_count": 25,
     "metadata": {},
     "output_type": "execute_result"
    }
   ],
   "source": [
    "gs_knn.best_params_"
   ]
  },
  {
   "cell_type": "code",
   "execution_count": 26,
   "metadata": {},
   "outputs": [
    {
     "data": {
      "text/plain": [
       "Index(['mean_fit_time', 'std_fit_time', 'mean_score_time', 'std_score_time',\n",
       "       'param_algorithm', 'param_n_neighbors', 'param_p', 'param_weights',\n",
       "       'params', 'split0_test_score', 'split1_test_score', 'split2_test_score',\n",
       "       'split3_test_score', 'split4_test_score', 'mean_test_score',\n",
       "       'std_test_score', 'rank_test_score', 'split0_train_score',\n",
       "       'split1_train_score', 'split2_train_score', 'split3_train_score',\n",
       "       'split4_train_score', 'mean_train_score', 'std_train_score'],\n",
       "      dtype='object')"
      ]
     },
     "execution_count": 26,
     "metadata": {},
     "output_type": "execute_result"
    }
   ],
   "source": [
    "gs_results  = pd.DataFrame(gs_knn.cv_results_)\n",
    "gs_results.columns"
   ]
  },
  {
   "cell_type": "code",
   "execution_count": 27,
   "metadata": {},
   "outputs": [
    {
     "data": {
      "text/html": [
       "<div>\n",
       "<style scoped>\n",
       "    .dataframe tbody tr th:only-of-type {\n",
       "        vertical-align: middle;\n",
       "    }\n",
       "\n",
       "    .dataframe tbody tr th {\n",
       "        vertical-align: top;\n",
       "    }\n",
       "\n",
       "    .dataframe thead th {\n",
       "        text-align: right;\n",
       "    }\n",
       "</style>\n",
       "<table border=\"1\" class=\"dataframe\">\n",
       "  <thead>\n",
       "    <tr style=\"text-align: right;\">\n",
       "      <th></th>\n",
       "      <th>mean_test_score</th>\n",
       "      <th>mean_train_score</th>\n",
       "      <th>params</th>\n",
       "    </tr>\n",
       "  </thead>\n",
       "  <tbody>\n",
       "    <tr>\n",
       "      <th>0</th>\n",
       "      <td>0.734525</td>\n",
       "      <td>0.784699</td>\n",
       "      <td>{'algorithm': 'auto', 'n_neighbors': 1, 'p': 1...</td>\n",
       "    </tr>\n",
       "    <tr>\n",
       "      <th>1</th>\n",
       "      <td>0.734525</td>\n",
       "      <td>0.784699</td>\n",
       "      <td>{'algorithm': 'auto', 'n_neighbors': 1, 'p': 1...</td>\n",
       "    </tr>\n",
       "    <tr>\n",
       "      <th>2</th>\n",
       "      <td>0.734525</td>\n",
       "      <td>0.784699</td>\n",
       "      <td>{'algorithm': 'auto', 'n_neighbors': 1, 'p': 2...</td>\n",
       "    </tr>\n",
       "    <tr>\n",
       "      <th>3</th>\n",
       "      <td>0.734525</td>\n",
       "      <td>0.784699</td>\n",
       "      <td>{'algorithm': 'auto', 'n_neighbors': 1, 'p': 2...</td>\n",
       "    </tr>\n",
       "    <tr>\n",
       "      <th>4</th>\n",
       "      <td>0.734525</td>\n",
       "      <td>0.784699</td>\n",
       "      <td>{'algorithm': 'auto', 'n_neighbors': 1, 'p': 3...</td>\n",
       "    </tr>\n",
       "    <tr>\n",
       "      <th>...</th>\n",
       "      <td>...</td>\n",
       "      <td>...</td>\n",
       "      <td>...</td>\n",
       "    </tr>\n",
       "    <tr>\n",
       "      <th>331</th>\n",
       "      <td>0.788646</td>\n",
       "      <td>0.828967</td>\n",
       "      <td>{'algorithm': 'brute', 'n_neighbors': 14, 'p':...</td>\n",
       "    </tr>\n",
       "    <tr>\n",
       "      <th>332</th>\n",
       "      <td>0.766586</td>\n",
       "      <td>0.782178</td>\n",
       "      <td>{'algorithm': 'brute', 'n_neighbors': 14, 'p':...</td>\n",
       "    </tr>\n",
       "    <tr>\n",
       "      <th>333</th>\n",
       "      <td>0.788646</td>\n",
       "      <td>0.828967</td>\n",
       "      <td>{'algorithm': 'brute', 'n_neighbors': 14, 'p':...</td>\n",
       "    </tr>\n",
       "    <tr>\n",
       "      <th>334</th>\n",
       "      <td>0.766586</td>\n",
       "      <td>0.782178</td>\n",
       "      <td>{'algorithm': 'brute', 'n_neighbors': 14, 'p':...</td>\n",
       "    </tr>\n",
       "    <tr>\n",
       "      <th>335</th>\n",
       "      <td>0.788646</td>\n",
       "      <td>0.828967</td>\n",
       "      <td>{'algorithm': 'brute', 'n_neighbors': 14, 'p':...</td>\n",
       "    </tr>\n",
       "  </tbody>\n",
       "</table>\n",
       "<p>336 rows × 3 columns</p>\n",
       "</div>"
      ],
      "text/plain": [
       "     mean_test_score  mean_train_score  \\\n",
       "0           0.734525          0.784699   \n",
       "1           0.734525          0.784699   \n",
       "2           0.734525          0.784699   \n",
       "3           0.734525          0.784699   \n",
       "4           0.734525          0.784699   \n",
       "..               ...               ...   \n",
       "331         0.788646          0.828967   \n",
       "332         0.766586          0.782178   \n",
       "333         0.788646          0.828967   \n",
       "334         0.766586          0.782178   \n",
       "335         0.788646          0.828967   \n",
       "\n",
       "                                                params  \n",
       "0    {'algorithm': 'auto', 'n_neighbors': 1, 'p': 1...  \n",
       "1    {'algorithm': 'auto', 'n_neighbors': 1, 'p': 1...  \n",
       "2    {'algorithm': 'auto', 'n_neighbors': 1, 'p': 2...  \n",
       "3    {'algorithm': 'auto', 'n_neighbors': 1, 'p': 2...  \n",
       "4    {'algorithm': 'auto', 'n_neighbors': 1, 'p': 3...  \n",
       "..                                                 ...  \n",
       "331  {'algorithm': 'brute', 'n_neighbors': 14, 'p':...  \n",
       "332  {'algorithm': 'brute', 'n_neighbors': 14, 'p':...  \n",
       "333  {'algorithm': 'brute', 'n_neighbors': 14, 'p':...  \n",
       "334  {'algorithm': 'brute', 'n_neighbors': 14, 'p':...  \n",
       "335  {'algorithm': 'brute', 'n_neighbors': 14, 'p':...  \n",
       "\n",
       "[336 rows x 3 columns]"
      ]
     },
     "execution_count": 27,
     "metadata": {},
     "output_type": "execute_result"
    }
   ],
   "source": [
    "gs_results = gs_results[['mean_test_score', 'mean_train_score', 'params']]\n",
    "gs_results"
   ]
  },
  {
   "cell_type": "markdown",
   "metadata": {},
   "source": [
    "Mean value for testing and training score after hyperparameter cross validation."
   ]
  },
  {
   "cell_type": "code",
   "execution_count": 28,
   "metadata": {},
   "outputs": [
    {
     "data": {
      "text/html": [
       "<div>\n",
       "<style scoped>\n",
       "    .dataframe tbody tr th:only-of-type {\n",
       "        vertical-align: middle;\n",
       "    }\n",
       "\n",
       "    .dataframe tbody tr th {\n",
       "        vertical-align: top;\n",
       "    }\n",
       "\n",
       "    .dataframe thead th {\n",
       "        text-align: right;\n",
       "    }\n",
       "</style>\n",
       "<table border=\"1\" class=\"dataframe\">\n",
       "  <thead>\n",
       "    <tr style=\"text-align: right;\">\n",
       "      <th></th>\n",
       "      <th>mean_test_score</th>\n",
       "      <th>mean_train_score</th>\n",
       "      <th>params</th>\n",
       "    </tr>\n",
       "  </thead>\n",
       "  <tbody>\n",
       "    <tr>\n",
       "      <th>43</th>\n",
       "      <td>0.788667</td>\n",
       "      <td>0.827458</td>\n",
       "      <td>{'algorithm': 'auto', 'n_neighbors': 8, 'p': 1...</td>\n",
       "    </tr>\n",
       "  </tbody>\n",
       "</table>\n",
       "</div>"
      ],
      "text/plain": [
       "    mean_test_score  mean_train_score  \\\n",
       "43         0.788667          0.827458   \n",
       "\n",
       "                                               params  \n",
       "43  {'algorithm': 'auto', 'n_neighbors': 8, 'p': 1...  "
      ]
     },
     "execution_count": 28,
     "metadata": {},
     "output_type": "execute_result"
    }
   ],
   "source": [
    "gs_results.loc[gs_results.params == gs_knn.best_params_]"
   ]
  },
  {
   "cell_type": "markdown",
   "metadata": {},
   "source": [
    "K-Nearest Neighbors model accuracy with optimized parameters."
   ]
  },
  {
   "cell_type": "code",
   "execution_count": 29,
   "metadata": {},
   "outputs": [
    {
     "data": {
      "text/plain": [
       "0.822429906542056"
      ]
     },
     "execution_count": 29,
     "metadata": {},
     "output_type": "execute_result"
    }
   ],
   "source": [
    "knn_optimized = KNeighborsClassifier(\n",
    "    n_neighbors= gs_knn.best_params_['n_neighbors'],\n",
    "    algorithm= gs_knn.best_params_['algorithm'],\n",
    "    p= gs_knn.best_params_['p'],\n",
    "    weights= gs_knn.best_params_['weights'])\n",
    "\n",
    "knn_optimized.fit(X_train, Y_train)\n",
    "yhat_optimized = knn_optimized.predict(X_test)\n",
    "accuracy_score(yhat_optimized, Y_test)"
   ]
  },
  {
   "cell_type": "markdown",
   "metadata": {},
   "source": [
    "Confusion Matrix for optimized K-Nearest Neighbors model."
   ]
  },
  {
   "cell_type": "code",
   "execution_count": 30,
   "metadata": {},
   "outputs": [
    {
     "data": {
      "image/png": "[encoded data removed]",
      "text/plain": [
       "<Figure size 360x288 with 2 Axes>"
      ]
     },
     "metadata": {},
     "output_type": "display_data"
    }
   ],
   "source": [
    "sns.set(font_scale= 1.5)\n",
    "plt.figure(figsize= (5,4))\n",
    "h =sns.heatmap(confusion_matrix(y_true= Y_test, y_pred= yhat_optimized), annot= True, cmap= 'Greens', fmt = 'g')\n",
    "plt.xlabel('Predicted Label')\n",
    "plt.ylabel('True Label')\n",
    "plt.title('KNeighborsClassifier');"
   ]
  },
  {
   "cell_type": "markdown",
   "metadata": {},
   "source": [
    "# Random Forest Model"
   ]
  },
  {
   "cell_type": "code",
   "execution_count": 31,
   "metadata": {},
   "outputs": [
    {
     "data": {
      "text/plain": [
       "0.8037383177570093"
      ]
     },
     "execution_count": 31,
     "metadata": {},
     "output_type": "execute_result"
    }
   ],
   "source": [
    "rf = RandomForestClassifier(random_state= 34)\n",
    "rf.fit(X_train, Y_train)\n",
    "accuracy_score(rf.predict(X_test), Y_test)"
   ]
  },
  {
   "cell_type": "markdown",
   "metadata": {},
   "source": [
    "Optimizing number of trees values in the forest."
   ]
  },
  {
   "cell_type": "code",
   "execution_count": 32,
   "metadata": {},
   "outputs": [],
   "source": [
    "train_accuracy = []\n",
    "n_trees = np.arange(1, 103, 5)\n",
    "for tree in n_trees:\n",
    "    rf = RandomForestClassifier(n_estimators= tree, random_state= 34)\n",
    "    rf.fit(X_train, Y_train)\n",
    "    train_accuracy_iter = accuracy_score(rf.predict(X_train), Y_train)\n",
    "    train_accuracy.append(train_accuracy_iter)"
   ]
  },
  {
   "cell_type": "code",
   "execution_count": 33,
   "metadata": {},
   "outputs": [
    {
     "data": {
      "image/png": "[encoded data removed]",
      "text/plain": [
       "<Figure size 504x288 with 1 Axes>"
      ]
     },
     "metadata": {},
     "output_type": "display_data"
    }
   ],
   "source": [
    "sns.set(font_scale= 1.5)\n",
    "sns.set_style('whitegrid')\n",
    "plt.figure(figsize= (7, 4))\n",
    "sns.lineplot(x = n_trees, y =train_accuracy)\n",
    "plt.xlabel('Number of Trees')\n",
    "plt.ylabel('Training Accuracy');"
   ]
  },
  {
   "cell_type": "code",
   "execution_count": 34,
   "metadata": {},
   "outputs": [
    {
     "name": "stdout",
     "output_type": "stream",
     "text": [
      "0.8249496981891348\n"
     ]
    },
    {
     "data": {
      "text/plain": [
       "array([ 11,  16,  21,  26,  31,  36,  41,  46,  51,  56,  61,  66,  71,\n",
       "        76,  81,  86,  91,  96, 101])"
      ]
     },
     "execution_count": 34,
     "metadata": {},
     "output_type": "execute_result"
    }
   ],
   "source": [
    "print(max(train_accuracy))\n",
    "array = n_trees[train_accuracy == max(train_accuracy)]\n",
    "array"
   ]
  },
  {
   "cell_type": "markdown",
   "metadata": {},
   "source": [
    "Random forest model with optimized number of trees."
   ]
  },
  {
   "cell_type": "code",
   "execution_count": 35,
   "metadata": {},
   "outputs": [
    {
     "data": {
      "text/plain": [
       "RandomForestClassifier(n_estimators=11, random_state=34)"
      ]
     },
     "execution_count": 35,
     "metadata": {},
     "output_type": "execute_result"
    }
   ],
   "source": [
    "rf_optimized = RandomForestClassifier(\n",
    "    n_estimators = array[0],\n",
    "    random_state= 34\n",
    ")\n",
    "rf_optimized.fit(X_train, Y_train)"
   ]
  },
  {
   "cell_type": "markdown",
   "metadata": {},
   "source": [
    "Accuracy for the optimized Random forest model."
   ]
  },
  {
   "cell_type": "code",
   "execution_count": 36,
   "metadata": {},
   "outputs": [
    {
     "data": {
      "text/plain": [
       "0.7990654205607477"
      ]
     },
     "execution_count": 36,
     "metadata": {},
     "output_type": "execute_result"
    }
   ],
   "source": [
    "yhat_optimized = rf_optimized.predict(X_test)\n",
    "accuracy_score(yhat_optimized, Y_test)"
   ]
  },
  {
   "cell_type": "markdown",
   "metadata": {},
   "source": [
    "Confusion matrix for the optimized Random forest model."
   ]
  },
  {
   "cell_type": "code",
   "execution_count": 37,
   "metadata": {},
   "outputs": [
    {
     "data": {
      "image/png": "[encoded data removed]",
      "text/plain": [
       "<Figure size 360x288 with 2 Axes>"
      ]
     },
     "metadata": {},
     "output_type": "display_data"
    }
   ],
   "source": [
    "sns.set(font_scale=1.5)\n",
    "plt.figure(figsize= (5,4))\n",
    "sns.heatmap(confusion_matrix(y_true= Y_test, y_pred= yhat_optimized), annot= True, cmap= 'Greens', fmt = 'g')\n",
    "plt.xlabel('Predicted Label')\n",
    "plt.ylabel('True Label')\n",
    "plt.title('RandomForestClassifier');"
   ]
  },
  {
   "cell_type": "code",
   "execution_count": 38,
   "metadata": {},
   "outputs": [
    {
     "name": "stdout",
     "output_type": "stream",
     "text": [
      "Execution of entire code in the notebook (excluding time to load the packages) took 36.52890682220459 seconds.\n"
     ]
    }
   ],
   "source": [
    "print('Execution of entire code in the notebook (excluding time to load the packages) took', time.time()-t00, 'seconds.')"
   ]
  },
  {
   "cell_type": "markdown",
   "metadata": {},
   "source": [
    "Author:\n",
    "\n",
    "Mangaljit Singh"
   ]
  }
 ],
 "metadata": {
  "interpreter": {
   "hash": "07ba029a63dcfa286f28eb3e41855caf70e98b697d744d736f4a475db6687448"
  },
  "kernelspec": {
   "display_name": "Python 3 (ipykernel)",
   "language": "python",
   "name": "python3"
  },
  "language_info": {
   "codemirror_mode": {
    "name": "ipython",
    "version": 3
   },
   "file_extension": ".py",
   "mimetype": "text/x-python",
   "name": "python",
   "nbconvert_exporter": "python",
   "pygments_lexer": "ipython3",
   "version": "3.9.7"
  }
 },
 "nbformat": 4,
 "nbformat_minor": 4
}
