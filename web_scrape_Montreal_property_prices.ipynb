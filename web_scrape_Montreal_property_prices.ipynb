{
 "cells": [
  {
   "cell_type": "markdown",
   "metadata": {},
   "source": [
    "# Web Scraping Montreal Property Prices"
   ]
  },
  {
   "cell_type": "markdown",
   "metadata": {},
   "source": [
    "To scrape the residential property prices in Montreal, we use the website https://duproprio.com/en, and enter in the search field the keyword \"**Montréal/l'Île**\" to retrive all the residential property listings in Montreal. Later, we use the website link (generated after the keyword search) to extract the property listing details."
   ]
  },
  {
   "cell_type": "markdown",
   "metadata": {},
   "source": [
    "We scrape the property lisitng prices and other details using the **BeautifulSoup** package in Python."
   ]
  },
  {
   "cell_type": "code",
   "execution_count": 2,
   "metadata": {},
   "outputs": [
    {
     "name": "stderr",
     "output_type": "stream",
     "text": [
      "/Users/mangaljitsingh/opt/anaconda3/lib/python3.9/site-packages/IPython/core/formatters.py:345: FutureWarning: In future versions `DataFrame.to_latex` is expected to utilise the base implementation of `Styler.to_latex` for formatting and rendering. The arguments signature may therefore change. It is recommended instead to use `DataFrame.style.to_latex` which also contains additional functionality.\n",
      "  return method()\n"
     ]
    },
    {
     "data": {
      "text/html": [
       "<div>\n",
       "<style scoped>\n",
       "    .dataframe tbody tr th:only-of-type {\n",
       "        vertical-align: middle;\n",
       "    }\n",
       "\n",
       "    .dataframe tbody tr th {\n",
       "        vertical-align: top;\n",
       "    }\n",
       "\n",
       "    .dataframe thead th {\n",
       "        text-align: right;\n",
       "    }\n",
       "</style>\n",
       "<table border=\"1\" class=\"dataframe\">\n",
       "  <thead>\n",
       "    <tr style=\"text-align: right;\">\n",
       "      <th></th>\n",
       "      <th>price</th>\n",
       "      <th>region</th>\n",
       "      <th>address</th>\n",
       "      <th>bedrooms</th>\n",
       "      <th>bathrooms</th>\n",
       "      <th>living area</th>\n",
       "      <th>lot_dimension</th>\n",
       "    </tr>\n",
       "  </thead>\n",
       "  <tbody>\n",
       "    <tr>\n",
       "      <th>0</th>\n",
       "      <td>$536,704</td>\n",
       "      <td>Val-Des-Monts</td>\n",
       "      <td>11 chemin Folklore - Modèle Le Bercail - À CON...</td>\n",
       "      <td>Bedrooms\\n            3</td>\n",
       "      <td>Bathrooms + Half baths\\n            1\\n       ...</td>\n",
       "      <td>Living space area (basement exclu.)\\n1,194 ft²</td>\n",
       "      <td>NaN</td>\n",
       "    </tr>\n",
       "    <tr>\n",
       "      <th>1</th>\n",
       "      <td>$339,000</td>\n",
       "      <td>Rivière-Du-Loup</td>\n",
       "      <td>6 rue des Plateaux</td>\n",
       "      <td>Bedrooms\\n            4</td>\n",
       "      <td>Bathrooms + Half baths\\n            2</td>\n",
       "      <td>Living space area (basement exclu.)\\n1,104 ft²</td>\n",
       "      <td>Lot dimensions\\n6,351 ft²</td>\n",
       "    </tr>\n",
       "    <tr>\n",
       "      <th>2</th>\n",
       "      <td>$315,000</td>\n",
       "      <td>Griffintown</td>\n",
       "      <td>602-71 RUE DUKE</td>\n",
       "      <td>Bedrooms\\n            1</td>\n",
       "      <td>Bathrooms + Half baths\\n            1</td>\n",
       "      <td>Living space area (basement exclu.)\\n364 ft²</td>\n",
       "      <td>NaN</td>\n",
       "    </tr>\n",
       "    <tr>\n",
       "      <th>3</th>\n",
       "      <td>NaN</td>\n",
       "      <td>NaN</td>\n",
       "      <td>NaN</td>\n",
       "      <td>NaN</td>\n",
       "      <td>NaN</td>\n",
       "      <td>NaN</td>\n",
       "      <td>NaN</td>\n",
       "    </tr>\n",
       "    <tr>\n",
       "      <th>4</th>\n",
       "      <td>$369,000</td>\n",
       "      <td>Gatineau (Buckingham)</td>\n",
       "      <td>652 rue Maclaren Est</td>\n",
       "      <td>Bedrooms\\n            2</td>\n",
       "      <td>Bathrooms + Half baths\\n            1</td>\n",
       "      <td>Living space area (basement exclu.)\\n1,280 ft²</td>\n",
       "      <td>Lot dimensions\\n4,036 ft²</td>\n",
       "    </tr>\n",
       "  </tbody>\n",
       "</table>\n",
       "</div>"
      ],
      "text/latex": [
       "\\begin{tabular}{llllllll}\n",
       "\\toprule\n",
       "{} &     price &                 region &                                            address &                 bedrooms &                                          bathrooms &                                     living area &              lot\\_dimension \\\\\n",
       "\\midrule\n",
       "0 &  \\$536,704 &          Val-Des-Monts &  11 chemin Folklore - Modèle Le Bercail - À CON... &  Bedrooms\\textbackslash n            3 &  Bathrooms + Half baths\\textbackslash n            1\\textbackslash n       ... &  Living space area (basement exclu.)\\textbackslash n1,194 ft² &                        NaN \\\\\n",
       "1 &  \\$339,000 &        Rivière-Du-Loup &                                 6 rue des Plateaux &  Bedrooms\\textbackslash n            4 &              Bathrooms + Half baths\\textbackslash n            2 &  Living space area (basement exclu.)\\textbackslash n1,104 ft² &  Lot dimensions\\textbackslash n6,351 ft² \\\\\n",
       "2 &  \\$315,000 &            Griffintown &                                    602-71 RUE DUKE &  Bedrooms\\textbackslash n            1 &              Bathrooms + Half baths\\textbackslash n            1 &    Living space area (basement exclu.)\\textbackslash n364 ft² &                        NaN \\\\\n",
       "3 &       NaN &                    NaN &                                                NaN &                      NaN &                                                NaN &                                             NaN &                        NaN \\\\\n",
       "4 &  \\$369,000 &  Gatineau (Buckingham) &                               652 rue Maclaren Est &  Bedrooms\\textbackslash n            2 &              Bathrooms + Half baths\\textbackslash n            1 &  Living space area (basement exclu.)\\textbackslash n1,280 ft² &  Lot dimensions\\textbackslash n4,036 ft² \\\\\n",
       "\\bottomrule\n",
       "\\end{tabular}\n"
      ],
      "text/plain": [
       "      price                 region  \\\n",
       "0  $536,704          Val-Des-Monts   \n",
       "1  $339,000        Rivière-Du-Loup   \n",
       "2  $315,000            Griffintown   \n",
       "3       NaN                    NaN   \n",
       "4  $369,000  Gatineau (Buckingham)   \n",
       "\n",
       "                                             address                 bedrooms  \\\n",
       "0  11 chemin Folklore - Modèle Le Bercail - À CON...  Bedrooms\\n            3   \n",
       "1                                 6 rue des Plateaux  Bedrooms\\n            4   \n",
       "2                                    602-71 RUE DUKE  Bedrooms\\n            1   \n",
       "3                                                NaN                      NaN   \n",
       "4                               652 rue Maclaren Est  Bedrooms\\n            2   \n",
       "\n",
       "                                           bathrooms  \\\n",
       "0  Bathrooms + Half baths\\n            1\\n       ...   \n",
       "1              Bathrooms + Half baths\\n            2   \n",
       "2              Bathrooms + Half baths\\n            1   \n",
       "3                                                NaN   \n",
       "4              Bathrooms + Half baths\\n            1   \n",
       "\n",
       "                                      living area              lot_dimension  \n",
       "0  Living space area (basement exclu.)\\n1,194 ft²                        NaN  \n",
       "1  Living space area (basement exclu.)\\n1,104 ft²  Lot dimensions\\n6,351 ft²  \n",
       "2    Living space area (basement exclu.)\\n364 ft²                        NaN  \n",
       "3                                             NaN                        NaN  \n",
       "4  Living space area (basement exclu.)\\n1,280 ft²  Lot dimensions\\n4,036 ft²  "
      ]
     },
     "execution_count": 2,
     "metadata": {},
     "output_type": "execute_result"
    }
   ],
   "source": [
    "import requests\n",
    "from bs4 import BeautifulSoup\n",
    "import pandas as pd\n",
    "import numpy as np\n",
    "import re\n",
    "import os\n",
    "from datetime import date\n",
    "import time\n",
    "\n",
    "t0 = time.time()\n",
    "pwd = os.getcwd()\n",
    "\n",
    "price = []; region = []; address = []; bedrooms = []; bathrooms = []; living_area = []; lot_dimension = []\n",
    "for index_ in range(1,79): #enter the number of website pages that you want to scroll through.  \n",
    "    #print(index_)\n",
    "    #Below is the link we get after searching the keyword.\n",
    "    url = f\"https://duproprio.com/en/search/list?search=true&is_for_sale=1&with_builders=1&parent=1&pageNumber={index_}&sort=-published_at\"\n",
    "    r = requests.get(url); soup = BeautifulSoup(r.text, \"html.parser\")\n",
    "    search_results = soup.find_all(\"li\", {\"class\" : \"search-results-listings-list__item\"})\n",
    "    \n",
    "    for index in range(0, len(search_results)):\n",
    "        try: \n",
    "            try:\n",
    "                price_iter = search_results[index].find(\"div\", {\"class\" : \"search-results-listings-list__item-description__price\"}).text.strip()\n",
    "            except:\n",
    "                price_iter = 'NaN'\n",
    "            price.append(price_iter)\n",
    "            try:\n",
    "                region_iter = search_results[index].find(\"h3\", {\"class\" : \"search-results-listings-list__item-description__item search-results-listings-list__item-description__city\"}).text.strip()\n",
    "            except:\n",
    "                region_iter = 'NaN'\n",
    "            region.append(region_iter)\n",
    "            try:\n",
    "                address_iter = search_results[index].find(\"div\", {\"class\" : \"search-results-listings-list__item-description__item search-results-listings-list__item-description__address\"}).text.strip()\n",
    "            except:\n",
    "                address_iter = 'NaN'\n",
    "            address.append(address_iter)\n",
    "            try:\n",
    "                bedrooms_iter = search_results[index].find_all(\"div\", {\"class\" : \"search-results-listings-list__item-description__characteristics__item\"})[0].text.strip() #bedroom\n",
    "            except:\n",
    "                bedrooms_iter  = 'NaN'  \n",
    "            bedrooms.append(bedrooms_iter)\n",
    "            try:\n",
    "                bathrooms_iter = search_results[index].find_all(\"div\", {\"class\" : \"search-results-listings-list__item-description__characteristics__item\"})[1].text.strip() #bathroom\n",
    "            except:\n",
    "                bathrooms_iter = 'NaN'\n",
    "            bathrooms.append(bathrooms_iter)\n",
    "            try:\n",
    "                living_area_iter = search_results[index].find_all(\"div\", {\"class\" : \"search-results-listings-list__item-description__characteristics__item\"})[2].text.strip() #living area\n",
    "            except:\n",
    "                living_area_iter = 'NaN'\n",
    "            living_area.append(living_area_iter)\n",
    "            try:\n",
    "                lot_dimension_iter = search_results[index].find_all(\"div\", {\"class\" : \"search-results-listings-list__item-description__characteristics__item\"})[3].text.strip() #lot dimension\n",
    "            except:\n",
    "                lot_dimension_iter = 'NaN'\n",
    "            lot_dimension.append(lot_dimension_iter)\n",
    "        except: \n",
    "            pass\n",
    "\n",
    "list = {\n",
    "    'price' : (price),\n",
    "    \"region\" : (region),\n",
    "    \"address\" : (address), \n",
    "    \"bedrooms\" :  (bedrooms), \n",
    "    \"bathrooms\" : (bathrooms),\n",
    "    \"living area\" : (living_area), \n",
    "    \"lot_dimension\": (lot_dimension)\n",
    "}\n",
    "data = pd.DataFrame(list)\n",
    "#data.to_excel(excel_writer= pwd + \"/Montreal_property_listings.xlsx\", index= False)\n",
    "data.head()"
   ]
  },
  {
   "cell_type": "code",
   "execution_count": 3,
   "metadata": {},
   "outputs": [
    {
     "name": "stdout",
     "output_type": "stream",
     "text": [
      "The scraped dataset contains 12 number of rows.\n"
     ]
    }
   ],
   "source": [
    "print('The scraped dataset contains', data.shape[0], 'number of rows.')"
   ]
  },
  {
   "cell_type": "code",
   "execution_count": 4,
   "metadata": {},
   "outputs": [
    {
     "name": "stdout",
     "output_type": "stream",
     "text": [
      "2022-03-10\n"
     ]
    }
   ],
   "source": [
    "print(date.today())"
   ]
  },
  {
   "cell_type": "markdown",
   "metadata": {},
   "source": [
    "**Author:**\n",
    "\n",
    "**Mangaljit Singh**"
   ]
  }
 ],
 "metadata": {
  "interpreter": {
   "hash": "aee8b7b246df8f9039afb4144a1f6fd8d2ca17a180786b69acc140d282b71a49"
  },
  "kernelspec": {
   "display_name": "Python 3.10.2 64-bit",
   "language": "python",
   "name": "python3"
  },
  "language_info": {
   "codemirror_mode": {
    "name": "ipython",
    "version": 3
   },
   "file_extension": ".py",
   "mimetype": "text/x-python",
   "name": "python",
   "nbconvert_exporter": "python",
   "pygments_lexer": "ipython3",
   "version": "3.9.7"
  },
  "orig_nbformat": 4
 },
 "nbformat": 4,
 "nbformat_minor": 2
}
