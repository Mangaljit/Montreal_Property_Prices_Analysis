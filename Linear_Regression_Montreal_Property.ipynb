{
 "cells": [
  {
   "cell_type": "markdown",
   "id": "91223ecf",
   "metadata": {},
   "source": [
    "# Linear Regression Model for predicting property prices in the city of Montreal, Canada."
   ]
  },
  {
   "cell_type": "markdown",
   "id": "884b8bca",
   "metadata": {},
   "source": [
    "Load required packages."
   ]
  },
  {
   "cell_type": "code",
   "execution_count": 1,
   "id": "88131fc8-f762-4c3f-aab8-b923b0eca8de",
   "metadata": {},
   "outputs": [],
   "source": [
    "import os\n",
    "import time\n",
    "import numpy as np\n",
    "import pandas as pd\n",
    "import seaborn as sns\n",
    "import matplotlib.pyplot as plt"
   ]
  },
  {
   "cell_type": "markdown",
   "id": "cbb57bad",
   "metadata": {},
   "source": [
    "Start the clock for estimating the code execution time."
   ]
  },
  {
   "cell_type": "code",
   "execution_count": 2,
   "id": "a5698235",
   "metadata": {},
   "outputs": [],
   "source": [
    "t0 = time.time()"
   ]
  },
  {
   "cell_type": "markdown",
   "id": "a81e3aba",
   "metadata": {},
   "source": [
    "Load the dataset, and drop the **address** column from the dataset."
   ]
  },
  {
   "cell_type": "code",
   "execution_count": 3,
   "id": "72cdc63b",
   "metadata": {},
   "outputs": [
    {
     "name": "stdout",
     "output_type": "stream",
     "text": [
      "(813, 3)\n"
     ]
    },
    {
     "data": {
      "text/html": [
       "<div>\n",
       "<style scoped>\n",
       "    .dataframe tbody tr th:only-of-type {\n",
       "        vertical-align: middle;\n",
       "    }\n",
       "\n",
       "    .dataframe tbody tr th {\n",
       "        vertical-align: top;\n",
       "    }\n",
       "\n",
       "    .dataframe thead th {\n",
       "        text-align: right;\n",
       "    }\n",
       "</style>\n",
       "<table border=\"1\" class=\"dataframe\">\n",
       "  <thead>\n",
       "    <tr style=\"text-align: right;\">\n",
       "      <th></th>\n",
       "      <th>price</th>\n",
       "      <th>region</th>\n",
       "      <th>bedrooms</th>\n",
       "    </tr>\n",
       "  </thead>\n",
       "  <tbody>\n",
       "    <tr>\n",
       "      <th>0</th>\n",
       "      <td>849000.0</td>\n",
       "      <td>Mercier / Hochelaga / Maisonneuve</td>\n",
       "      <td>3</td>\n",
       "    </tr>\n",
       "    <tr>\n",
       "      <th>1</th>\n",
       "      <td>420000.0</td>\n",
       "      <td>Villeray / St-Michel / Parc-Extension</td>\n",
       "      <td>2</td>\n",
       "    </tr>\n",
       "    <tr>\n",
       "      <th>2</th>\n",
       "      <td>699000.0</td>\n",
       "      <td>Pointe-Aux-Trembles / Montréal-Est</td>\n",
       "      <td>3</td>\n",
       "    </tr>\n",
       "    <tr>\n",
       "      <th>3</th>\n",
       "      <td>349000.0</td>\n",
       "      <td>Rosemont / La Petite Patrie</td>\n",
       "      <td>1</td>\n",
       "    </tr>\n",
       "    <tr>\n",
       "      <th>4</th>\n",
       "      <td>959000.0</td>\n",
       "      <td>Ahuntsic / Cartierville</td>\n",
       "      <td>4</td>\n",
       "    </tr>\n",
       "  </tbody>\n",
       "</table>\n",
       "</div>"
      ],
      "text/plain": [
       "      price                                 region  bedrooms\n",
       "0  849000.0      Mercier / Hochelaga / Maisonneuve         3\n",
       "1  420000.0  Villeray / St-Michel / Parc-Extension         2\n",
       "2  699000.0     Pointe-Aux-Trembles / Montréal-Est         3\n",
       "3  349000.0            Rosemont / La Petite Patrie         1\n",
       "4  959000.0                Ahuntsic / Cartierville         4"
      ]
     },
     "execution_count": 3,
     "metadata": {},
     "output_type": "execute_result"
    }
   ],
   "source": [
    "path = os.getcwd() +\"/clean_Montreal_property_listings.xlsx\"\n",
    "data = pd.read_excel(path)\n",
    "data.drop(columns= 'address', inplace= True)\n",
    "print(data.shape)\n",
    "data.head()"
   ]
  },
  {
   "cell_type": "markdown",
   "id": "453f4635",
   "metadata": {},
   "source": [
    "Check NaN values."
   ]
  },
  {
   "cell_type": "code",
   "execution_count": 4,
   "id": "d8719019",
   "metadata": {},
   "outputs": [
    {
     "data": {
      "text/plain": [
       "price       2\n",
       "region      0\n",
       "bedrooms    0\n",
       "dtype: int64"
      ]
     },
     "execution_count": 4,
     "metadata": {},
     "output_type": "execute_result"
    }
   ],
   "source": [
    "data.isna().sum()"
   ]
  },
  {
   "cell_type": "markdown",
   "id": "aa7dd1d1",
   "metadata": {},
   "source": [
    "Drop the NaN values."
   ]
  },
  {
   "cell_type": "code",
   "execution_count": 5,
   "id": "9d758c23",
   "metadata": {},
   "outputs": [],
   "source": [
    "data.dropna(inplace= True)"
   ]
  },
  {
   "cell_type": "code",
   "execution_count": 6,
   "id": "4f83b831",
   "metadata": {},
   "outputs": [
    {
     "data": {
      "text/plain": [
       "price       0\n",
       "region      0\n",
       "bedrooms    0\n",
       "dtype: int64"
      ]
     },
     "execution_count": 6,
     "metadata": {},
     "output_type": "execute_result"
    }
   ],
   "source": [
    "data.isna().sum()"
   ]
  },
  {
   "cell_type": "markdown",
   "id": "232afc6c",
   "metadata": {},
   "source": [
    "Check the range of listing prices in different regions.\n",
    "\n"
   ]
  },
  {
   "cell_type": "code",
   "execution_count": 7,
   "id": "4083136f",
   "metadata": {},
   "outputs": [
    {
     "data": {
      "text/html": [
       "<div>\n",
       "<style scoped>\n",
       "    .dataframe tbody tr th:only-of-type {\n",
       "        vertical-align: middle;\n",
       "    }\n",
       "\n",
       "    .dataframe tbody tr th {\n",
       "        vertical-align: top;\n",
       "    }\n",
       "\n",
       "    .dataframe thead th {\n",
       "        text-align: right;\n",
       "    }\n",
       "</style>\n",
       "<table border=\"1\" class=\"dataframe\">\n",
       "  <thead>\n",
       "    <tr style=\"text-align: right;\">\n",
       "      <th></th>\n",
       "      <th>region</th>\n",
       "      <th>no_of_listings</th>\n",
       "      <th>mean_price</th>\n",
       "      <th>min_price</th>\n",
       "      <th>max_price</th>\n",
       "    </tr>\n",
       "  </thead>\n",
       "  <tbody>\n",
       "    <tr>\n",
       "      <th>0</th>\n",
       "      <td>Ville-Marie (Centre-Ville et Vieux Mtl)</td>\n",
       "      <td>143.0</td>\n",
       "      <td>622306.566</td>\n",
       "      <td>264900.0</td>\n",
       "      <td>2650000.0</td>\n",
       "    </tr>\n",
       "    <tr>\n",
       "      <th>1</th>\n",
       "      <td>Mercier / Hochelaga / Maisonneuve</td>\n",
       "      <td>87.0</td>\n",
       "      <td>616634.368</td>\n",
       "      <td>209000.0</td>\n",
       "      <td>2400000.0</td>\n",
       "    </tr>\n",
       "    <tr>\n",
       "      <th>2</th>\n",
       "      <td>Rosemont / La Petite Patrie</td>\n",
       "      <td>62.0</td>\n",
       "      <td>694286.452</td>\n",
       "      <td>265000.0</td>\n",
       "      <td>2750000.0</td>\n",
       "    </tr>\n",
       "    <tr>\n",
       "      <th>3</th>\n",
       "      <td>Ahuntsic / Cartierville</td>\n",
       "      <td>62.0</td>\n",
       "      <td>625556.435</td>\n",
       "      <td>239000.0</td>\n",
       "      <td>1569000.0</td>\n",
       "    </tr>\n",
       "    <tr>\n",
       "      <th>4</th>\n",
       "      <td>Villeray / St-Michel / Parc-Extension</td>\n",
       "      <td>53.0</td>\n",
       "      <td>701269.698</td>\n",
       "      <td>269000.0</td>\n",
       "      <td>2450000.0</td>\n",
       "    </tr>\n",
       "    <tr>\n",
       "      <th>5</th>\n",
       "      <td>Le Plateau-Mont-Royal</td>\n",
       "      <td>50.0</td>\n",
       "      <td>867939.400</td>\n",
       "      <td>275000.0</td>\n",
       "      <td>2995000.0</td>\n",
       "    </tr>\n",
       "    <tr>\n",
       "      <th>6</th>\n",
       "      <td>Le Sud-Ouest</td>\n",
       "      <td>46.0</td>\n",
       "      <td>677583.652</td>\n",
       "      <td>229500.0</td>\n",
       "      <td>1650000.0</td>\n",
       "    </tr>\n",
       "    <tr>\n",
       "      <th>7</th>\n",
       "      <td>Côte-des-Neiges / Notre-Dame-de-Grâce</td>\n",
       "      <td>41.0</td>\n",
       "      <td>646209.756</td>\n",
       "      <td>265000.0</td>\n",
       "      <td>2850000.0</td>\n",
       "    </tr>\n",
       "    <tr>\n",
       "      <th>8</th>\n",
       "      <td>Saint-Laurent</td>\n",
       "      <td>39.0</td>\n",
       "      <td>689064.436</td>\n",
       "      <td>295000.0</td>\n",
       "      <td>1750000.0</td>\n",
       "    </tr>\n",
       "    <tr>\n",
       "      <th>9</th>\n",
       "      <td>Griffintown</td>\n",
       "      <td>29.0</td>\n",
       "      <td>495055.172</td>\n",
       "      <td>259000.0</td>\n",
       "      <td>810000.0</td>\n",
       "    </tr>\n",
       "    <tr>\n",
       "      <th>10</th>\n",
       "      <td>Pointe-Aux-Trembles / Montréal-Est</td>\n",
       "      <td>24.0</td>\n",
       "      <td>514920.833</td>\n",
       "      <td>265000.0</td>\n",
       "      <td>1238000.0</td>\n",
       "    </tr>\n",
       "    <tr>\n",
       "      <th>11</th>\n",
       "      <td>Rivière des Prairies</td>\n",
       "      <td>19.0</td>\n",
       "      <td>560305.211</td>\n",
       "      <td>289000.0</td>\n",
       "      <td>989000.0</td>\n",
       "    </tr>\n",
       "    <tr>\n",
       "      <th>12</th>\n",
       "      <td>Pierrefonds / Roxboro</td>\n",
       "      <td>17.0</td>\n",
       "      <td>850517.647</td>\n",
       "      <td>380000.0</td>\n",
       "      <td>2749000.0</td>\n",
       "    </tr>\n",
       "    <tr>\n",
       "      <th>13</th>\n",
       "      <td>Verdun</td>\n",
       "      <td>17.0</td>\n",
       "      <td>786876.471</td>\n",
       "      <td>295000.0</td>\n",
       "      <td>1790000.0</td>\n",
       "    </tr>\n",
       "    <tr>\n",
       "      <th>14</th>\n",
       "      <td>L'Ile Des Soeurs</td>\n",
       "      <td>17.0</td>\n",
       "      <td>836540.118</td>\n",
       "      <td>310760.0</td>\n",
       "      <td>1800000.0</td>\n",
       "    </tr>\n",
       "    <tr>\n",
       "      <th>15</th>\n",
       "      <td>LaSalle</td>\n",
       "      <td>16.0</td>\n",
       "      <td>709196.812</td>\n",
       "      <td>329999.0</td>\n",
       "      <td>1245000.0</td>\n",
       "    </tr>\n",
       "    <tr>\n",
       "      <th>16</th>\n",
       "      <td>Anjou</td>\n",
       "      <td>16.0</td>\n",
       "      <td>611900.000</td>\n",
       "      <td>224900.0</td>\n",
       "      <td>1200000.0</td>\n",
       "    </tr>\n",
       "    <tr>\n",
       "      <th>17</th>\n",
       "      <td>Montréal-Nord</td>\n",
       "      <td>15.0</td>\n",
       "      <td>629253.200</td>\n",
       "      <td>270000.0</td>\n",
       "      <td>1499999.0</td>\n",
       "    </tr>\n",
       "    <tr>\n",
       "      <th>18</th>\n",
       "      <td>Lachine</td>\n",
       "      <td>14.0</td>\n",
       "      <td>603921.429</td>\n",
       "      <td>375000.0</td>\n",
       "      <td>895000.0</td>\n",
       "    </tr>\n",
       "    <tr>\n",
       "      <th>19</th>\n",
       "      <td>Côte-St-Luc / Hampstead / Montréal-Ouest</td>\n",
       "      <td>8.0</td>\n",
       "      <td>633587.500</td>\n",
       "      <td>245000.0</td>\n",
       "      <td>1500000.0</td>\n",
       "    </tr>\n",
       "    <tr>\n",
       "      <th>20</th>\n",
       "      <td>Saint-Léonard</td>\n",
       "      <td>8.0</td>\n",
       "      <td>595987.500</td>\n",
       "      <td>309000.0</td>\n",
       "      <td>1475000.0</td>\n",
       "    </tr>\n",
       "    <tr>\n",
       "      <th>21</th>\n",
       "      <td>Pointe-Claire</td>\n",
       "      <td>6.0</td>\n",
       "      <td>857166.667</td>\n",
       "      <td>450000.0</td>\n",
       "      <td>1599000.0</td>\n",
       "    </tr>\n",
       "    <tr>\n",
       "      <th>22</th>\n",
       "      <td>Dollard-Des-Ormeaux</td>\n",
       "      <td>4.0</td>\n",
       "      <td>560500.000</td>\n",
       "      <td>259000.0</td>\n",
       "      <td>779000.0</td>\n",
       "    </tr>\n",
       "    <tr>\n",
       "      <th>23</th>\n",
       "      <td>L'île-Bizard / Sainte-Geneviève</td>\n",
       "      <td>3.0</td>\n",
       "      <td>1215666.667</td>\n",
       "      <td>449000.0</td>\n",
       "      <td>1599000.0</td>\n",
       "    </tr>\n",
       "    <tr>\n",
       "      <th>24</th>\n",
       "      <td>Kirkland</td>\n",
       "      <td>3.0</td>\n",
       "      <td>1195666.667</td>\n",
       "      <td>769000.0</td>\n",
       "      <td>1849000.0</td>\n",
       "    </tr>\n",
       "    <tr>\n",
       "      <th>25</th>\n",
       "      <td>Dorval / L'Île Dorval</td>\n",
       "      <td>3.0</td>\n",
       "      <td>1001333.333</td>\n",
       "      <td>499000.0</td>\n",
       "      <td>1550000.0</td>\n",
       "    </tr>\n",
       "    <tr>\n",
       "      <th>26</th>\n",
       "      <td>Outremont</td>\n",
       "      <td>2.0</td>\n",
       "      <td>737500.000</td>\n",
       "      <td>615000.0</td>\n",
       "      <td>860000.0</td>\n",
       "    </tr>\n",
       "    <tr>\n",
       "      <th>27</th>\n",
       "      <td>Mont-Royal</td>\n",
       "      <td>2.0</td>\n",
       "      <td>502000.000</td>\n",
       "      <td>425000.0</td>\n",
       "      <td>579000.0</td>\n",
       "    </tr>\n",
       "    <tr>\n",
       "      <th>28</th>\n",
       "      <td>Beaconsfield / Baie-D'Urfé</td>\n",
       "      <td>2.0</td>\n",
       "      <td>1439000.000</td>\n",
       "      <td>878000.0</td>\n",
       "      <td>2000000.0</td>\n",
       "    </tr>\n",
       "    <tr>\n",
       "      <th>29</th>\n",
       "      <td>Westmount</td>\n",
       "      <td>2.0</td>\n",
       "      <td>941500.000</td>\n",
       "      <td>495000.0</td>\n",
       "      <td>1388000.0</td>\n",
       "    </tr>\n",
       "    <tr>\n",
       "      <th>30</th>\n",
       "      <td>Ste-Anne-De-Bellevue</td>\n",
       "      <td>1.0</td>\n",
       "      <td>539000.000</td>\n",
       "      <td>539000.0</td>\n",
       "      <td>539000.0</td>\n",
       "    </tr>\n",
       "  </tbody>\n",
       "</table>\n",
       "</div>"
      ],
      "text/plain": [
       "                                      region  no_of_listings   mean_price  \\\n",
       "0    Ville-Marie (Centre-Ville et Vieux Mtl)           143.0   622306.566   \n",
       "1          Mercier / Hochelaga / Maisonneuve            87.0   616634.368   \n",
       "2                Rosemont / La Petite Patrie            62.0   694286.452   \n",
       "3                    Ahuntsic / Cartierville            62.0   625556.435   \n",
       "4      Villeray / St-Michel / Parc-Extension            53.0   701269.698   \n",
       "5                      Le Plateau-Mont-Royal            50.0   867939.400   \n",
       "6                               Le Sud-Ouest            46.0   677583.652   \n",
       "7      Côte-des-Neiges / Notre-Dame-de-Grâce            41.0   646209.756   \n",
       "8                              Saint-Laurent            39.0   689064.436   \n",
       "9                                Griffintown            29.0   495055.172   \n",
       "10        Pointe-Aux-Trembles / Montréal-Est            24.0   514920.833   \n",
       "11                      Rivière des Prairies            19.0   560305.211   \n",
       "12                     Pierrefonds / Roxboro            17.0   850517.647   \n",
       "13                                    Verdun            17.0   786876.471   \n",
       "14                          L'Ile Des Soeurs            17.0   836540.118   \n",
       "15                                   LaSalle            16.0   709196.812   \n",
       "16                                     Anjou            16.0   611900.000   \n",
       "17                             Montréal-Nord            15.0   629253.200   \n",
       "18                                   Lachine            14.0   603921.429   \n",
       "19  Côte-St-Luc / Hampstead / Montréal-Ouest             8.0   633587.500   \n",
       "20                             Saint-Léonard             8.0   595987.500   \n",
       "21                             Pointe-Claire             6.0   857166.667   \n",
       "22                       Dollard-Des-Ormeaux             4.0   560500.000   \n",
       "23           L'île-Bizard / Sainte-Geneviève             3.0  1215666.667   \n",
       "24                                  Kirkland             3.0  1195666.667   \n",
       "25                     Dorval / L'Île Dorval             3.0  1001333.333   \n",
       "26                                 Outremont             2.0   737500.000   \n",
       "27                                Mont-Royal             2.0   502000.000   \n",
       "28                Beaconsfield / Baie-D'Urfé             2.0  1439000.000   \n",
       "29                                 Westmount             2.0   941500.000   \n",
       "30                      Ste-Anne-De-Bellevue             1.0   539000.000   \n",
       "\n",
       "    min_price  max_price  \n",
       "0    264900.0  2650000.0  \n",
       "1    209000.0  2400000.0  \n",
       "2    265000.0  2750000.0  \n",
       "3    239000.0  1569000.0  \n",
       "4    269000.0  2450000.0  \n",
       "5    275000.0  2995000.0  \n",
       "6    229500.0  1650000.0  \n",
       "7    265000.0  2850000.0  \n",
       "8    295000.0  1750000.0  \n",
       "9    259000.0   810000.0  \n",
       "10   265000.0  1238000.0  \n",
       "11   289000.0   989000.0  \n",
       "12   380000.0  2749000.0  \n",
       "13   295000.0  1790000.0  \n",
       "14   310760.0  1800000.0  \n",
       "15   329999.0  1245000.0  \n",
       "16   224900.0  1200000.0  \n",
       "17   270000.0  1499999.0  \n",
       "18   375000.0   895000.0  \n",
       "19   245000.0  1500000.0  \n",
       "20   309000.0  1475000.0  \n",
       "21   450000.0  1599000.0  \n",
       "22   259000.0   779000.0  \n",
       "23   449000.0  1599000.0  \n",
       "24   769000.0  1849000.0  \n",
       "25   499000.0  1550000.0  \n",
       "26   615000.0   860000.0  \n",
       "27   425000.0   579000.0  \n",
       "28   878000.0  2000000.0  \n",
       "29   495000.0  1388000.0  \n",
       "30   539000.0   539000.0  "
      ]
     },
     "execution_count": 7,
     "metadata": {},
     "output_type": "execute_result"
    }
   ],
   "source": [
    "data_describe = data.groupby('region')['price'].describe().reset_index()[['region','count', 'mean', 'min', 'max']].round(3)\n",
    "data_describe.sort_values(by= 'count', ascending= False, inplace= True)\n",
    "data_describe.rename(columns= \n",
    "    {'count' : 'no_of_listings',\n",
    "    'mean': 'mean_price',\n",
    "    'min' : 'min_price',\n",
    "    'max' : 'max_price'}).reset_index().drop(columns= ['index'])"
   ]
  },
  {
   "cell_type": "markdown",
   "id": "d19836a0",
   "metadata": {},
   "source": [
    "\n",
    "Add a new column into the dataframe named **pricem** showing house price in the units of Million dollars."
   ]
  },
  {
   "cell_type": "code",
   "execution_count": 8,
   "id": "9809a7ae",
   "metadata": {},
   "outputs": [],
   "source": [
    "data['pricem'] = data['price']/1e6"
   ]
  },
  {
   "cell_type": "markdown",
   "id": "3b0ce9a1",
   "metadata": {},
   "source": [
    "Drop the **price** column."
   ]
  },
  {
   "cell_type": "code",
   "execution_count": 9,
   "id": "b799f55e",
   "metadata": {},
   "outputs": [
    {
     "data": {
      "text/html": [
       "<div>\n",
       "<style scoped>\n",
       "    .dataframe tbody tr th:only-of-type {\n",
       "        vertical-align: middle;\n",
       "    }\n",
       "\n",
       "    .dataframe tbody tr th {\n",
       "        vertical-align: top;\n",
       "    }\n",
       "\n",
       "    .dataframe thead th {\n",
       "        text-align: right;\n",
       "    }\n",
       "</style>\n",
       "<table border=\"1\" class=\"dataframe\">\n",
       "  <thead>\n",
       "    <tr style=\"text-align: right;\">\n",
       "      <th></th>\n",
       "      <th>region</th>\n",
       "      <th>bedrooms</th>\n",
       "      <th>pricem</th>\n",
       "    </tr>\n",
       "  </thead>\n",
       "  <tbody>\n",
       "    <tr>\n",
       "      <th>0</th>\n",
       "      <td>Mercier / Hochelaga / Maisonneuve</td>\n",
       "      <td>3</td>\n",
       "      <td>0.8490</td>\n",
       "    </tr>\n",
       "    <tr>\n",
       "      <th>1</th>\n",
       "      <td>Villeray / St-Michel / Parc-Extension</td>\n",
       "      <td>2</td>\n",
       "      <td>0.4200</td>\n",
       "    </tr>\n",
       "    <tr>\n",
       "      <th>2</th>\n",
       "      <td>Pointe-Aux-Trembles / Montréal-Est</td>\n",
       "      <td>3</td>\n",
       "      <td>0.6990</td>\n",
       "    </tr>\n",
       "    <tr>\n",
       "      <th>3</th>\n",
       "      <td>Rosemont / La Petite Patrie</td>\n",
       "      <td>1</td>\n",
       "      <td>0.3490</td>\n",
       "    </tr>\n",
       "    <tr>\n",
       "      <th>4</th>\n",
       "      <td>Ahuntsic / Cartierville</td>\n",
       "      <td>4</td>\n",
       "      <td>0.9590</td>\n",
       "    </tr>\n",
       "    <tr>\n",
       "      <th>...</th>\n",
       "      <td>...</td>\n",
       "      <td>...</td>\n",
       "      <td>...</td>\n",
       "    </tr>\n",
       "    <tr>\n",
       "      <th>808</th>\n",
       "      <td>Le Sud-Ouest</td>\n",
       "      <td>5</td>\n",
       "      <td>0.4980</td>\n",
       "    </tr>\n",
       "    <tr>\n",
       "      <th>809</th>\n",
       "      <td>Côte-des-Neiges / Notre-Dame-de-Grâce</td>\n",
       "      <td>2</td>\n",
       "      <td>0.5989</td>\n",
       "    </tr>\n",
       "    <tr>\n",
       "      <th>810</th>\n",
       "      <td>Côte-St-Luc / Hampstead / Montréal-Ouest</td>\n",
       "      <td>1</td>\n",
       "      <td>0.2500</td>\n",
       "    </tr>\n",
       "    <tr>\n",
       "      <th>811</th>\n",
       "      <td>Montréal-Nord</td>\n",
       "      <td>3</td>\n",
       "      <td>0.4995</td>\n",
       "    </tr>\n",
       "    <tr>\n",
       "      <th>812</th>\n",
       "      <td>Ville-Marie (Centre-Ville et Vieux Mtl)</td>\n",
       "      <td>2</td>\n",
       "      <td>0.4990</td>\n",
       "    </tr>\n",
       "  </tbody>\n",
       "</table>\n",
       "<p>811 rows × 3 columns</p>\n",
       "</div>"
      ],
      "text/plain": [
       "                                       region  bedrooms  pricem\n",
       "0           Mercier / Hochelaga / Maisonneuve         3  0.8490\n",
       "1       Villeray / St-Michel / Parc-Extension         2  0.4200\n",
       "2          Pointe-Aux-Trembles / Montréal-Est         3  0.6990\n",
       "3                 Rosemont / La Petite Patrie         1  0.3490\n",
       "4                     Ahuntsic / Cartierville         4  0.9590\n",
       "..                                        ...       ...     ...\n",
       "808                              Le Sud-Ouest         5  0.4980\n",
       "809     Côte-des-Neiges / Notre-Dame-de-Grâce         2  0.5989\n",
       "810  Côte-St-Luc / Hampstead / Montréal-Ouest         1  0.2500\n",
       "811                             Montréal-Nord         3  0.4995\n",
       "812   Ville-Marie (Centre-Ville et Vieux Mtl)         2  0.4990\n",
       "\n",
       "[811 rows x 3 columns]"
      ]
     },
     "execution_count": 9,
     "metadata": {},
     "output_type": "execute_result"
    }
   ],
   "source": [
    "data.drop(columns= [\"price\"], inplace= True)\n",
    "data"
   ]
  },
  {
   "cell_type": "code",
   "execution_count": 10,
   "id": "c618f21b",
   "metadata": {},
   "outputs": [
    {
     "data": {
      "text/plain": [
       "region       object\n",
       "bedrooms      int64\n",
       "pricem      float64\n",
       "dtype: object"
      ]
     },
     "execution_count": 10,
     "metadata": {},
     "output_type": "execute_result"
    }
   ],
   "source": [
    "data.dtypes"
   ]
  },
  {
   "cell_type": "code",
   "execution_count": 11,
   "id": "24e5bb2a",
   "metadata": {},
   "outputs": [
    {
     "name": "stdout",
     "output_type": "stream",
     "text": [
      "The maximum price of a house listed is 2.995 million dollars.\n",
      "------------------------------------------------------------\n",
      "The minimum price of a house listed is 0.209 million dollars.\n"
     ]
    }
   ],
   "source": [
    "print(\"The maximum price of a house listed is \" + str(max(data.pricem)) + \" million dollars.\")\n",
    "print(\"------------------------------------------------------------\")\n",
    "print(\"The minimum price of a house listed is \" + str(min(data.pricem)) + \" million dollars.\")"
   ]
  },
  {
   "cell_type": "markdown",
   "id": "65e9f638",
   "metadata": {},
   "source": [
    "Distribution of house prices."
   ]
  },
  {
   "cell_type": "code",
   "execution_count": 12,
   "id": "7a4d964c",
   "metadata": {},
   "outputs": [
    {
     "data": {
      "image/png": "[encoded data removed]",
      "text/plain": [
       "<Figure size 576x360 with 1 Axes>"
      ]
     },
     "metadata": {},
     "output_type": "display_data"
    }
   ],
   "source": [
    "sns.set(font_scale=2)\n",
    "plt.figure(figsize=(8,5))\n",
    "sns.distplot(data.pricem, color= 'green')\n",
    "plt.title(\"Distribution of Property Prices in Montreal\")\n",
    "plt.xlabel('Price in Million Dollars')\n",
    "plt.ylabel('Density');"
   ]
  },
  {
   "cell_type": "markdown",
   "id": "115c5d98",
   "metadata": {},
   "source": [
    "For our modelling, we keep the houses with price less than 1.5 Million dollars."
   ]
  },
  {
   "cell_type": "code",
   "execution_count": 13,
   "id": "82912fbb",
   "metadata": {},
   "outputs": [],
   "source": [
    "data = data.loc[data.pricem < 1.5]"
   ]
  },
  {
   "cell_type": "markdown",
   "id": "8a14dd83",
   "metadata": {},
   "source": [
    "Label each region with a distinct digit, the process known as label encoding.\n",
    "\n",
    "This helps finding the correlation of the column region with other features."
   ]
  },
  {
   "cell_type": "code",
   "execution_count": 14,
   "id": "caf8d3c5",
   "metadata": {},
   "outputs": [
    {
     "name": "stdout",
     "output_type": "stream",
     "text": [
      "(779, 4)\n"
     ]
    },
    {
     "name": "stderr",
     "output_type": "stream",
     "text": [
      "/var/folders/q9/k5pzlrtn1c92hpddrxp2mjsr0000gn/T/ipykernel_4786/3024532173.py:5: SettingWithCopyWarning: \n",
      "A value is trying to be set on a copy of a slice from a DataFrame.\n",
      "Try using .loc[row_indexer,col_indexer] = value instead\n",
      "\n",
      "See the caveats in the documentation: https://pandas.pydata.org/pandas-docs/stable/user_guide/indexing.html#returning-a-view-versus-a-copy\n",
      "  data_corr[\"region_code\"] = region_code\n",
      "/var/folders/q9/k5pzlrtn1c92hpddrxp2mjsr0000gn/T/ipykernel_4786/3024532173.py:7: SettingWithCopyWarning: \n",
      "A value is trying to be set on a copy of a slice from a DataFrame\n",
      "\n",
      "See the caveats in the documentation: https://pandas.pydata.org/pandas-docs/stable/user_guide/indexing.html#returning-a-view-versus-a-copy\n",
      "  data_corr.drop(columns= [\"region\"], inplace= True)\n"
     ]
    },
    {
     "data": {
      "text/html": [
       "<div>\n",
       "<style scoped>\n",
       "    .dataframe tbody tr th:only-of-type {\n",
       "        vertical-align: middle;\n",
       "    }\n",
       "\n",
       "    .dataframe tbody tr th {\n",
       "        vertical-align: top;\n",
       "    }\n",
       "\n",
       "    .dataframe thead th {\n",
       "        text-align: right;\n",
       "    }\n",
       "</style>\n",
       "<table border=\"1\" class=\"dataframe\">\n",
       "  <thead>\n",
       "    <tr style=\"text-align: right;\">\n",
       "      <th></th>\n",
       "      <th>bedrooms</th>\n",
       "      <th>pricem</th>\n",
       "      <th>region_code</th>\n",
       "    </tr>\n",
       "  </thead>\n",
       "  <tbody>\n",
       "    <tr>\n",
       "      <th>0</th>\n",
       "      <td>3</td>\n",
       "      <td>0.8490</td>\n",
       "      <td>15</td>\n",
       "    </tr>\n",
       "    <tr>\n",
       "      <th>1</th>\n",
       "      <td>2</td>\n",
       "      <td>0.4200</td>\n",
       "      <td>29</td>\n",
       "    </tr>\n",
       "    <tr>\n",
       "      <th>2</th>\n",
       "      <td>3</td>\n",
       "      <td>0.6990</td>\n",
       "      <td>20</td>\n",
       "    </tr>\n",
       "    <tr>\n",
       "      <th>3</th>\n",
       "      <td>1</td>\n",
       "      <td>0.3490</td>\n",
       "      <td>23</td>\n",
       "    </tr>\n",
       "    <tr>\n",
       "      <th>4</th>\n",
       "      <td>4</td>\n",
       "      <td>0.9590</td>\n",
       "      <td>0</td>\n",
       "    </tr>\n",
       "    <tr>\n",
       "      <th>...</th>\n",
       "      <td>...</td>\n",
       "      <td>...</td>\n",
       "      <td>...</td>\n",
       "    </tr>\n",
       "    <tr>\n",
       "      <th>808</th>\n",
       "      <td>5</td>\n",
       "      <td>0.4980</td>\n",
       "      <td>14</td>\n",
       "    </tr>\n",
       "    <tr>\n",
       "      <th>809</th>\n",
       "      <td>2</td>\n",
       "      <td>0.5989</td>\n",
       "      <td>4</td>\n",
       "    </tr>\n",
       "    <tr>\n",
       "      <th>810</th>\n",
       "      <td>1</td>\n",
       "      <td>0.2500</td>\n",
       "      <td>3</td>\n",
       "    </tr>\n",
       "    <tr>\n",
       "      <th>811</th>\n",
       "      <td>3</td>\n",
       "      <td>0.4995</td>\n",
       "      <td>17</td>\n",
       "    </tr>\n",
       "    <tr>\n",
       "      <th>812</th>\n",
       "      <td>2</td>\n",
       "      <td>0.4990</td>\n",
       "      <td>28</td>\n",
       "    </tr>\n",
       "  </tbody>\n",
       "</table>\n",
       "<p>779 rows × 3 columns</p>\n",
       "</div>"
      ],
      "text/plain": [
       "     bedrooms  pricem  region_code\n",
       "0           3  0.8490           15\n",
       "1           2  0.4200           29\n",
       "2           3  0.6990           20\n",
       "3           1  0.3490           23\n",
       "4           4  0.9590            0\n",
       "..        ...     ...          ...\n",
       "808         5  0.4980           14\n",
       "809         2  0.5989            4\n",
       "810         1  0.2500            3\n",
       "811         3  0.4995           17\n",
       "812         2  0.4990           28\n",
       "\n",
       "[779 rows x 3 columns]"
      ]
     },
     "execution_count": 14,
     "metadata": {},
     "output_type": "execute_result"
    }
   ],
   "source": [
    "data_corr = data\n",
    "from sklearn.preprocessing import LabelEncoder\n",
    "le = LabelEncoder()\n",
    "region_code = le.fit_transform(data.region)\n",
    "data_corr[\"region_code\"] = region_code\n",
    "print(data_corr.shape)\n",
    "data_corr.drop(columns= [\"region\"], inplace= True)\n",
    "data_corr"
   ]
  },
  {
   "cell_type": "markdown",
   "id": "c1142d66",
   "metadata": {},
   "source": [
    "Check correlation between different features."
   ]
  },
  {
   "cell_type": "code",
   "execution_count": 15,
   "id": "bbb3cad7",
   "metadata": {},
   "outputs": [
    {
     "data": {
      "text/plain": [
       "(array([0.5, 1.5, 2.5]),\n",
       " [Text(0.5, 0, 'bedrooms'),\n",
       "  Text(1.5, 0, 'pricem'),\n",
       "  Text(2.5, 0, 'region_code')])"
      ]
     },
     "execution_count": 15,
     "metadata": {},
     "output_type": "execute_result"
    },
    {
     "data": {
      "image/png": "[encoded data removed]",
      "text/plain": [
       "<Figure size 576x432 with 2 Axes>"
      ]
     },
     "metadata": {},
     "output_type": "display_data"
    }
   ],
   "source": [
    "corr_matrix = data_corr.corr()\n",
    "sns.set(font_scale=2)\n",
    "plt.figure(figsize = (8,6))\n",
    "sns.heatmap(data = corr_matrix, color = 'green', annot = True, cmap= \"Greens\")\n",
    "plt.xticks(rotation = 20)"
   ]
  },
  {
   "cell_type": "markdown",
   "id": "8a583209",
   "metadata": {},
   "source": [
    "As can be seen, the price is not correlated to the region where the property is listed.\n",
    "\n",
    "Therefore, we only use the feature named **bedrooms** to build our linear regression model."
   ]
  },
  {
   "cell_type": "markdown",
   "id": "ec5b1493",
   "metadata": {},
   "source": [
    "Data pre-processing."
   ]
  },
  {
   "cell_type": "code",
   "execution_count": 16,
   "id": "e40dcf4d",
   "metadata": {},
   "outputs": [
    {
     "name": "stdout",
     "output_type": "stream",
     "text": [
      "779\n",
      "779\n"
     ]
    }
   ],
   "source": [
    "Y = data['pricem'].values\n",
    "print(len(Y))\n",
    "X = data[\"bedrooms\"].values\n",
    "print(len(X))"
   ]
  },
  {
   "cell_type": "markdown",
   "id": "4b9403ae",
   "metadata": {},
   "source": [
    "Split the data into training and testing sets.\n",
    "\n"
   ]
  },
  {
   "cell_type": "code",
   "execution_count": 17,
   "id": "4ad768dd",
   "metadata": {},
   "outputs": [
    {
     "name": "stdout",
     "output_type": "stream",
     "text": [
      "(701,)\n",
      "(78,)\n",
      "(701,)\n",
      "(78,)\n"
     ]
    }
   ],
   "source": [
    "from sklearn.model_selection import train_test_split\n",
    "X_train, X_test, Y_train, Y_test = train_test_split(X, Y, train_size = 0.9, random_state=1)\n",
    "print(X_train.shape)\n",
    "print(X_test.shape)\n",
    "print(Y_train.shape)\n",
    "print(Y_test.shape)"
   ]
  },
  {
   "cell_type": "markdown",
   "id": "ba741d42",
   "metadata": {},
   "source": [
    "Linear regression model development."
   ]
  },
  {
   "cell_type": "code",
   "execution_count": 18,
   "id": "f939f214",
   "metadata": {},
   "outputs": [
    {
     "data": {
      "text/plain": [
       "LinearRegression()"
      ]
     },
     "execution_count": 18,
     "metadata": {},
     "output_type": "execute_result"
    }
   ],
   "source": [
    "from sklearn.linear_model import LinearRegression\n",
    "lm = LinearRegression()\n",
    "lm.fit(X_train.reshape(-1, 1), Y_train)"
   ]
  },
  {
   "cell_type": "markdown",
   "id": "f91066b2",
   "metadata": {},
   "source": [
    "Model evaluation."
   ]
  },
  {
   "cell_type": "code",
   "execution_count": 19,
   "id": "d0fe13ca",
   "metadata": {},
   "outputs": [
    {
     "name": "stdout",
     "output_type": "stream",
     "text": [
      "The model performance for training set\n",
      "--------------------------------------\n",
      "mean_absolute_error is 0.16462526938142794\n",
      "\n",
      "\n",
      "The model performance for testing set\n",
      "--------------------------------------\n",
      "mean_absolute_error is 0.15436082651766259\n"
     ]
    }
   ],
   "source": [
    "from sklearn.metrics import mean_absolute_error\n",
    "\n",
    "# model evaluation for training set\n",
    "y_train_predict = lm.predict(X_train.reshape(-1, 1))\n",
    "mae = mean_absolute_error(Y_train, y_train_predict)\n",
    "print(\"The model performance for training set\")\n",
    "print(\"--------------------------------------\")\n",
    "print('mean_absolute_error is ' + str(mae))\n",
    "print(\"\\n\")\n",
    "\n",
    "# model evaluation for testing set\n",
    "y_test_predict = lm.predict(X_test.reshape(-1, 1))\n",
    "mae = mean_absolute_error(Y_test, y_test_predict)\n",
    "print(\"The model performance for testing set\")\n",
    "print(\"--------------------------------------\")\n",
    "print('mean_absolute_error is ' + str(mae))"
   ]
  },
  {
   "cell_type": "markdown",
   "id": "6693ab0f",
   "metadata": {},
   "source": [
    "Below we take a quick look at some of the predictions made my the model."
   ]
  },
  {
   "cell_type": "code",
   "execution_count": 20,
   "id": "a2eec2f9",
   "metadata": {},
   "outputs": [
    {
     "data": {
      "text/html": [
       "<div>\n",
       "<style scoped>\n",
       "    .dataframe tbody tr th:only-of-type {\n",
       "        vertical-align: middle;\n",
       "    }\n",
       "\n",
       "    .dataframe tbody tr th {\n",
       "        vertical-align: top;\n",
       "    }\n",
       "\n",
       "    .dataframe thead th {\n",
       "        text-align: right;\n",
       "    }\n",
       "</style>\n",
       "<table border=\"1\" class=\"dataframe\">\n",
       "  <thead>\n",
       "    <tr style=\"text-align: right;\">\n",
       "      <th></th>\n",
       "      <th>bedrooms</th>\n",
       "      <th>real_price</th>\n",
       "      <th>predicted_price</th>\n",
       "    </tr>\n",
       "  </thead>\n",
       "  <tbody>\n",
       "    <tr>\n",
       "      <th>0</th>\n",
       "      <td>2</td>\n",
       "      <td>0.920000</td>\n",
       "      <td>0.556752</td>\n",
       "    </tr>\n",
       "    <tr>\n",
       "      <th>1</th>\n",
       "      <td>7</td>\n",
       "      <td>0.869000</td>\n",
       "      <td>1.111027</td>\n",
       "    </tr>\n",
       "    <tr>\n",
       "      <th>2</th>\n",
       "      <td>5</td>\n",
       "      <td>0.878000</td>\n",
       "      <td>0.889317</td>\n",
       "    </tr>\n",
       "    <tr>\n",
       "      <th>3</th>\n",
       "      <td>4</td>\n",
       "      <td>0.995000</td>\n",
       "      <td>0.778462</td>\n",
       "    </tr>\n",
       "    <tr>\n",
       "      <th>4</th>\n",
       "      <td>2</td>\n",
       "      <td>0.638900</td>\n",
       "      <td>0.556752</td>\n",
       "    </tr>\n",
       "    <tr>\n",
       "      <th>5</th>\n",
       "      <td>2</td>\n",
       "      <td>0.649000</td>\n",
       "      <td>0.556752</td>\n",
       "    </tr>\n",
       "    <tr>\n",
       "      <th>6</th>\n",
       "      <td>3</td>\n",
       "      <td>0.599000</td>\n",
       "      <td>0.667607</td>\n",
       "    </tr>\n",
       "    <tr>\n",
       "      <th>7</th>\n",
       "      <td>3</td>\n",
       "      <td>0.775000</td>\n",
       "      <td>0.667607</td>\n",
       "    </tr>\n",
       "    <tr>\n",
       "      <th>8</th>\n",
       "      <td>2</td>\n",
       "      <td>0.334900</td>\n",
       "      <td>0.556752</td>\n",
       "    </tr>\n",
       "    <tr>\n",
       "      <th>9</th>\n",
       "      <td>1</td>\n",
       "      <td>0.309000</td>\n",
       "      <td>0.445897</td>\n",
       "    </tr>\n",
       "    <tr>\n",
       "      <th>10</th>\n",
       "      <td>3</td>\n",
       "      <td>0.799000</td>\n",
       "      <td>0.667607</td>\n",
       "    </tr>\n",
       "    <tr>\n",
       "      <th>11</th>\n",
       "      <td>1</td>\n",
       "      <td>0.295000</td>\n",
       "      <td>0.445897</td>\n",
       "    </tr>\n",
       "    <tr>\n",
       "      <th>12</th>\n",
       "      <td>5</td>\n",
       "      <td>0.864900</td>\n",
       "      <td>0.889317</td>\n",
       "    </tr>\n",
       "    <tr>\n",
       "      <th>13</th>\n",
       "      <td>2</td>\n",
       "      <td>0.360000</td>\n",
       "      <td>0.556752</td>\n",
       "    </tr>\n",
       "    <tr>\n",
       "      <th>14</th>\n",
       "      <td>3</td>\n",
       "      <td>0.899999</td>\n",
       "      <td>0.667607</td>\n",
       "    </tr>\n",
       "    <tr>\n",
       "      <th>15</th>\n",
       "      <td>2</td>\n",
       "      <td>0.438000</td>\n",
       "      <td>0.556752</td>\n",
       "    </tr>\n",
       "    <tr>\n",
       "      <th>16</th>\n",
       "      <td>1</td>\n",
       "      <td>0.325000</td>\n",
       "      <td>0.445897</td>\n",
       "    </tr>\n",
       "    <tr>\n",
       "      <th>17</th>\n",
       "      <td>2</td>\n",
       "      <td>0.398000</td>\n",
       "      <td>0.556752</td>\n",
       "    </tr>\n",
       "    <tr>\n",
       "      <th>18</th>\n",
       "      <td>2</td>\n",
       "      <td>0.399899</td>\n",
       "      <td>0.556752</td>\n",
       "    </tr>\n",
       "    <tr>\n",
       "      <th>19</th>\n",
       "      <td>3</td>\n",
       "      <td>0.679900</td>\n",
       "      <td>0.667607</td>\n",
       "    </tr>\n",
       "    <tr>\n",
       "      <th>20</th>\n",
       "      <td>1</td>\n",
       "      <td>0.409000</td>\n",
       "      <td>0.445897</td>\n",
       "    </tr>\n",
       "    <tr>\n",
       "      <th>21</th>\n",
       "      <td>3</td>\n",
       "      <td>0.645000</td>\n",
       "      <td>0.667607</td>\n",
       "    </tr>\n",
       "    <tr>\n",
       "      <th>22</th>\n",
       "      <td>1</td>\n",
       "      <td>0.240000</td>\n",
       "      <td>0.445897</td>\n",
       "    </tr>\n",
       "    <tr>\n",
       "      <th>23</th>\n",
       "      <td>1</td>\n",
       "      <td>0.498000</td>\n",
       "      <td>0.445897</td>\n",
       "    </tr>\n",
       "    <tr>\n",
       "      <th>24</th>\n",
       "      <td>3</td>\n",
       "      <td>1.345000</td>\n",
       "      <td>0.667607</td>\n",
       "    </tr>\n",
       "    <tr>\n",
       "      <th>25</th>\n",
       "      <td>2</td>\n",
       "      <td>0.800000</td>\n",
       "      <td>0.556752</td>\n",
       "    </tr>\n",
       "    <tr>\n",
       "      <th>26</th>\n",
       "      <td>2</td>\n",
       "      <td>0.539000</td>\n",
       "      <td>0.556752</td>\n",
       "    </tr>\n",
       "    <tr>\n",
       "      <th>27</th>\n",
       "      <td>3</td>\n",
       "      <td>0.799000</td>\n",
       "      <td>0.667607</td>\n",
       "    </tr>\n",
       "    <tr>\n",
       "      <th>28</th>\n",
       "      <td>2</td>\n",
       "      <td>0.429000</td>\n",
       "      <td>0.556752</td>\n",
       "    </tr>\n",
       "    <tr>\n",
       "      <th>29</th>\n",
       "      <td>1</td>\n",
       "      <td>0.365000</td>\n",
       "      <td>0.445897</td>\n",
       "    </tr>\n",
       "  </tbody>\n",
       "</table>\n",
       "</div>"
      ],
      "text/plain": [
       "    bedrooms  real_price  predicted_price\n",
       "0          2    0.920000         0.556752\n",
       "1          7    0.869000         1.111027\n",
       "2          5    0.878000         0.889317\n",
       "3          4    0.995000         0.778462\n",
       "4          2    0.638900         0.556752\n",
       "5          2    0.649000         0.556752\n",
       "6          3    0.599000         0.667607\n",
       "7          3    0.775000         0.667607\n",
       "8          2    0.334900         0.556752\n",
       "9          1    0.309000         0.445897\n",
       "10         3    0.799000         0.667607\n",
       "11         1    0.295000         0.445897\n",
       "12         5    0.864900         0.889317\n",
       "13         2    0.360000         0.556752\n",
       "14         3    0.899999         0.667607\n",
       "15         2    0.438000         0.556752\n",
       "16         1    0.325000         0.445897\n",
       "17         2    0.398000         0.556752\n",
       "18         2    0.399899         0.556752\n",
       "19         3    0.679900         0.667607\n",
       "20         1    0.409000         0.445897\n",
       "21         3    0.645000         0.667607\n",
       "22         1    0.240000         0.445897\n",
       "23         1    0.498000         0.445897\n",
       "24         3    1.345000         0.667607\n",
       "25         2    0.800000         0.556752\n",
       "26         2    0.539000         0.556752\n",
       "27         3    0.799000         0.667607\n",
       "28         2    0.429000         0.556752\n",
       "29         1    0.365000         0.445897"
      ]
     },
     "execution_count": 20,
     "metadata": {},
     "output_type": "execute_result"
    }
   ],
   "source": [
    "model_check_quick = pd.concat([\n",
    "    pd.DataFrame({\"bedrooms\" : X_test}).reset_index().drop(columns= [\"index\"]), \n",
    "    pd.DataFrame({\"real_price\" : Y_test}).reset_index().drop(columns= [\"index\"]), \n",
    "    pd.DataFrame({\"predicted_price\" : y_test_predict}).reset_index().drop(columns= [\"index\"])\n",
    "], axis = 1)\n",
    "model_check_quick.head(30)"
   ]
  },
  {
   "cell_type": "markdown",
   "id": "5c124dc0",
   "metadata": {},
   "source": [
    "Create required dataframe to visualize the regression model output."
   ]
  },
  {
   "cell_type": "code",
   "execution_count": 21,
   "id": "00558ae1",
   "metadata": {},
   "outputs": [
    {
     "data": {
      "text/html": [
       "<div>\n",
       "<style scoped>\n",
       "    .dataframe tbody tr th:only-of-type {\n",
       "        vertical-align: middle;\n",
       "    }\n",
       "\n",
       "    .dataframe tbody tr th {\n",
       "        vertical-align: top;\n",
       "    }\n",
       "\n",
       "    .dataframe thead th {\n",
       "        text-align: right;\n",
       "    }\n",
       "</style>\n",
       "<table border=\"1\" class=\"dataframe\">\n",
       "  <thead>\n",
       "    <tr style=\"text-align: right;\">\n",
       "      <th></th>\n",
       "      <th>bedrooms</th>\n",
       "      <th>price</th>\n",
       "      <th>label</th>\n",
       "    </tr>\n",
       "  </thead>\n",
       "  <tbody>\n",
       "    <tr>\n",
       "      <th>0</th>\n",
       "      <td>2</td>\n",
       "      <td>0.920000</td>\n",
       "      <td>real_price</td>\n",
       "    </tr>\n",
       "    <tr>\n",
       "      <th>1</th>\n",
       "      <td>7</td>\n",
       "      <td>0.869000</td>\n",
       "      <td>real_price</td>\n",
       "    </tr>\n",
       "    <tr>\n",
       "      <th>2</th>\n",
       "      <td>5</td>\n",
       "      <td>0.878000</td>\n",
       "      <td>real_price</td>\n",
       "    </tr>\n",
       "    <tr>\n",
       "      <th>3</th>\n",
       "      <td>4</td>\n",
       "      <td>0.995000</td>\n",
       "      <td>real_price</td>\n",
       "    </tr>\n",
       "    <tr>\n",
       "      <th>4</th>\n",
       "      <td>2</td>\n",
       "      <td>0.638900</td>\n",
       "      <td>real_price</td>\n",
       "    </tr>\n",
       "    <tr>\n",
       "      <th>...</th>\n",
       "      <td>...</td>\n",
       "      <td>...</td>\n",
       "      <td>...</td>\n",
       "    </tr>\n",
       "    <tr>\n",
       "      <th>73</th>\n",
       "      <td>3</td>\n",
       "      <td>0.667607</td>\n",
       "      <td>predicted_price</td>\n",
       "    </tr>\n",
       "    <tr>\n",
       "      <th>74</th>\n",
       "      <td>2</td>\n",
       "      <td>0.556752</td>\n",
       "      <td>predicted_price</td>\n",
       "    </tr>\n",
       "    <tr>\n",
       "      <th>75</th>\n",
       "      <td>5</td>\n",
       "      <td>0.889317</td>\n",
       "      <td>predicted_price</td>\n",
       "    </tr>\n",
       "    <tr>\n",
       "      <th>76</th>\n",
       "      <td>1</td>\n",
       "      <td>0.445897</td>\n",
       "      <td>predicted_price</td>\n",
       "    </tr>\n",
       "    <tr>\n",
       "      <th>77</th>\n",
       "      <td>4</td>\n",
       "      <td>0.778462</td>\n",
       "      <td>predicted_price</td>\n",
       "    </tr>\n",
       "  </tbody>\n",
       "</table>\n",
       "<p>156 rows × 3 columns</p>\n",
       "</div>"
      ],
      "text/plain": [
       "    bedrooms     price            label\n",
       "0          2  0.920000       real_price\n",
       "1          7  0.869000       real_price\n",
       "2          5  0.878000       real_price\n",
       "3          4  0.995000       real_price\n",
       "4          2  0.638900       real_price\n",
       "..       ...       ...              ...\n",
       "73         3  0.667607  predicted_price\n",
       "74         2  0.556752  predicted_price\n",
       "75         5  0.889317  predicted_price\n",
       "76         1  0.445897  predicted_price\n",
       "77         4  0.778462  predicted_price\n",
       "\n",
       "[156 rows x 3 columns]"
      ]
     },
     "execution_count": 21,
     "metadata": {},
     "output_type": "execute_result"
    }
   ],
   "source": [
    "df1 = pd.concat([\n",
    "    pd.DataFrame({\"bedrooms\" : X_test}).reset_index().drop(columns= [\"index\"]), \n",
    "    pd.DataFrame({\"price\" : Y_test}).reset_index().drop(columns= [\"index\"]), \n",
    "], axis = 1)\n",
    "df1[\"label\"] = \"real_price\"\n",
    "\n",
    "df2 = pd.concat([\n",
    "    pd.DataFrame({\"bedrooms\" : X_test}).reset_index().drop(columns= [\"index\"]), \n",
    "    pd.DataFrame({\"price\" : y_test_predict}).reset_index().drop(columns= [\"index\"]), \n",
    "], axis = 1)\n",
    "df2[\"label\"] = \"predicted_price\"\n",
    "df3 = pd.concat([df1, df2], axis = 0)\n",
    "df3"
   ]
  },
  {
   "cell_type": "markdown",
   "id": "0c4a38be",
   "metadata": {},
   "source": [
    "Visualize the performance of regression model."
   ]
  },
  {
   "cell_type": "code",
   "execution_count": 22,
   "id": "439bde06",
   "metadata": {},
   "outputs": [
    {
     "data": {
      "text/plain": [
       "<AxesSubplot:xlabel='bedrooms', ylabel='price'>"
      ]
     },
     "execution_count": 22,
     "metadata": {},
     "output_type": "execute_result"
    },
    {
     "data": {
      "image/png": "[encoded data removed]",
      "text/plain": [
       "<Figure size 576x360 with 1 Axes>"
      ]
     },
     "metadata": {},
     "output_type": "display_data"
    }
   ],
   "source": [
    "sns.set(font_scale= 2)\n",
    "sns.set_style(\"whitegrid\")\n",
    "plt.figure(figsize= (8,5))\n",
    "sns.lineplot(data= df3, x = \"bedrooms\", y = \"price\", hue= \"label\")"
   ]
  },
  {
   "cell_type": "code",
   "execution_count": 23,
   "id": "a205389c",
   "metadata": {},
   "outputs": [
    {
     "name": "stdout",
     "output_type": "stream",
     "text": [
      "The execution of entire code in the notebook (excluding time to load the packages) took 1.6900181770324707 seconds.\n"
     ]
    }
   ],
   "source": [
    "print('The execution of entire code in the notebook (excluding time to load the packages) took', time.time()-t0, 'seconds.')"
   ]
  },
  {
   "cell_type": "markdown",
   "id": "cf2a3c7e",
   "metadata": {},
   "source": [
    "Author:\n",
    "\n",
    "Mangaljit Singh"
   ]
  }
 ],
 "metadata": {
  "kernelspec": {
   "display_name": "Python 3 (ipykernel)",
   "language": "python",
   "name": "python3"
  },
  "language_info": {
   "codemirror_mode": {
    "name": "ipython",
    "version": 3
   },
   "file_extension": ".py",
   "mimetype": "text/x-python",
   "name": "python",
   "nbconvert_exporter": "python",
   "pygments_lexer": "ipython3",
   "version": "3.9.7"
  }
 },
 "nbformat": 4,
 "nbformat_minor": 5
}
