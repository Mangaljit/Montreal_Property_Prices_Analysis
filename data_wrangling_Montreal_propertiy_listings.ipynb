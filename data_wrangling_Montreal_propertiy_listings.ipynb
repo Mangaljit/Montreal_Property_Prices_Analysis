{
 "cells": [
  {
   "cell_type": "markdown",
   "metadata": {},
   "source": [
    "# Data Wrangling for Montreal Property Price Analysis Project"
   ]
  },
  {
   "cell_type": "markdown",
   "metadata": {},
   "source": [
    "Load required packages."
   ]
  },
  {
   "cell_type": "code",
   "execution_count": 1,
   "metadata": {},
   "outputs": [],
   "source": [
    "import re\n",
    "import os\n",
    "import time\n",
    "import numpy as np\n",
    "import pandas as pd\n",
    "import seaborn as sns\n",
    "from datetime import date\n",
    "import matplotlib.pyplot as plt"
   ]
  },
  {
   "cell_type": "code",
   "execution_count": 2,
   "metadata": {},
   "outputs": [],
   "source": [
    "t0 = time.time()"
   ]
  },
  {
   "cell_type": "code",
   "execution_count": 3,
   "metadata": {},
   "outputs": [
    {
     "data": {
      "text/html": [
       "<div>\n",
       "<style scoped>\n",
       "    .dataframe tbody tr th:only-of-type {\n",
       "        vertical-align: middle;\n",
       "    }\n",
       "\n",
       "    .dataframe tbody tr th {\n",
       "        vertical-align: top;\n",
       "    }\n",
       "\n",
       "    .dataframe thead th {\n",
       "        text-align: right;\n",
       "    }\n",
       "</style>\n",
       "<table border=\"1\" class=\"dataframe\">\n",
       "  <thead>\n",
       "    <tr style=\"text-align: right;\">\n",
       "      <th></th>\n",
       "      <th>price</th>\n",
       "      <th>region</th>\n",
       "      <th>address</th>\n",
       "      <th>bedrooms</th>\n",
       "      <th>bathrooms</th>\n",
       "      <th>living area</th>\n",
       "      <th>lot_dimension</th>\n",
       "    </tr>\n",
       "  </thead>\n",
       "  <tbody>\n",
       "    <tr>\n",
       "      <th>0</th>\n",
       "      <td>$849,000</td>\n",
       "      <td>Mercier / Hochelaga / Maisonneuve</td>\n",
       "      <td>5185-5187 RUE DESMARTEAU</td>\n",
       "      <td>Bedrooms\\n            3</td>\n",
       "      <td>Bathrooms + Half baths\\n            1</td>\n",
       "      <td>Lot dimensions\\n2,176 ft²</td>\n",
       "      <td>NaN</td>\n",
       "    </tr>\n",
       "    <tr>\n",
       "      <th>1</th>\n",
       "      <td>$420,000</td>\n",
       "      <td>Villeray / St-Michel / Parc-Extension</td>\n",
       "      <td>417-8635 RUE LAJEUNESSE</td>\n",
       "      <td>Bedrooms\\n            2</td>\n",
       "      <td>Bathrooms + Half baths\\n            1</td>\n",
       "      <td>Living space area (basement exclu.)\\n957 ft²</td>\n",
       "      <td>NaN</td>\n",
       "    </tr>\n",
       "    <tr>\n",
       "      <th>2</th>\n",
       "      <td>$810,000</td>\n",
       "      <td>Villeray / St-Michel / Parc-Extension</td>\n",
       "      <td>8517-A-8515-8517 avenue de l'esplanade</td>\n",
       "      <td>Bedrooms\\n            8</td>\n",
       "      <td>Bathrooms + Half baths\\n            3</td>\n",
       "      <td>Lot dimensions\\n2,850 ft²</td>\n",
       "      <td>NaN</td>\n",
       "    </tr>\n",
       "    <tr>\n",
       "      <th>3</th>\n",
       "      <td>NaN</td>\n",
       "      <td>NaN</td>\n",
       "      <td>NaN</td>\n",
       "      <td>NaN</td>\n",
       "      <td>NaN</td>\n",
       "      <td>NaN</td>\n",
       "      <td>NaN</td>\n",
       "    </tr>\n",
       "    <tr>\n",
       "      <th>4</th>\n",
       "      <td>$699,000</td>\n",
       "      <td>Pointe-Aux-Trembles / Montréal-Est</td>\n",
       "      <td>11901 Victoria</td>\n",
       "      <td>Bedrooms\\n            3</td>\n",
       "      <td>Bathrooms + Half baths\\n            1</td>\n",
       "      <td>Lot dimensions\\n3,060 ft²</td>\n",
       "      <td>NaN</td>\n",
       "    </tr>\n",
       "  </tbody>\n",
       "</table>\n",
       "</div>"
      ],
      "text/plain": [
       "      price                                 region  \\\n",
       "0  $849,000      Mercier / Hochelaga / Maisonneuve   \n",
       "1  $420,000  Villeray / St-Michel / Parc-Extension   \n",
       "2  $810,000  Villeray / St-Michel / Parc-Extension   \n",
       "3       NaN                                    NaN   \n",
       "4  $699,000     Pointe-Aux-Trembles / Montréal-Est   \n",
       "\n",
       "                                  address                 bedrooms  \\\n",
       "0                5185-5187 RUE DESMARTEAU  Bedrooms\\n            3   \n",
       "1                 417-8635 RUE LAJEUNESSE  Bedrooms\\n            2   \n",
       "2  8517-A-8515-8517 avenue de l'esplanade  Bedrooms\\n            8   \n",
       "3                                     NaN                      NaN   \n",
       "4                          11901 Victoria  Bedrooms\\n            3   \n",
       "\n",
       "                               bathrooms  \\\n",
       "0  Bathrooms + Half baths\\n            1   \n",
       "1  Bathrooms + Half baths\\n            1   \n",
       "2  Bathrooms + Half baths\\n            3   \n",
       "3                                    NaN   \n",
       "4  Bathrooms + Half baths\\n            1   \n",
       "\n",
       "                                    living area lot_dimension  \n",
       "0                     Lot dimensions\\n2,176 ft²           NaN  \n",
       "1  Living space area (basement exclu.)\\n957 ft²           NaN  \n",
       "2                     Lot dimensions\\n2,850 ft²           NaN  \n",
       "3                                           NaN           NaN  \n",
       "4                     Lot dimensions\\n3,060 ft²           NaN  "
      ]
     },
     "execution_count": 3,
     "metadata": {},
     "output_type": "execute_result"
    }
   ],
   "source": [
    "pwd = os.getcwd()\n",
    "path = pwd + \"/Montreal_property_listings.xlsx\"\n",
    "data1 = pd.read_excel(path)\n",
    "data1.head()"
   ]
  },
  {
   "cell_type": "markdown",
   "metadata": {},
   "source": [
    "Remove the columns named **living area**, **lot_dimension** and **bathrooms**."
   ]
  },
  {
   "cell_type": "code",
   "execution_count": 4,
   "metadata": {},
   "outputs": [
    {
     "data": {
      "text/html": [
       "<div>\n",
       "<style scoped>\n",
       "    .dataframe tbody tr th:only-of-type {\n",
       "        vertical-align: middle;\n",
       "    }\n",
       "\n",
       "    .dataframe tbody tr th {\n",
       "        vertical-align: top;\n",
       "    }\n",
       "\n",
       "    .dataframe thead th {\n",
       "        text-align: right;\n",
       "    }\n",
       "</style>\n",
       "<table border=\"1\" class=\"dataframe\">\n",
       "  <thead>\n",
       "    <tr style=\"text-align: right;\">\n",
       "      <th></th>\n",
       "      <th>price</th>\n",
       "      <th>region</th>\n",
       "      <th>address</th>\n",
       "      <th>bedrooms</th>\n",
       "    </tr>\n",
       "  </thead>\n",
       "  <tbody>\n",
       "    <tr>\n",
       "      <th>0</th>\n",
       "      <td>$849,000</td>\n",
       "      <td>Mercier / Hochelaga / Maisonneuve</td>\n",
       "      <td>5185-5187 RUE DESMARTEAU</td>\n",
       "      <td>Bedrooms\\n            3</td>\n",
       "    </tr>\n",
       "    <tr>\n",
       "      <th>1</th>\n",
       "      <td>$420,000</td>\n",
       "      <td>Villeray / St-Michel / Parc-Extension</td>\n",
       "      <td>417-8635 RUE LAJEUNESSE</td>\n",
       "      <td>Bedrooms\\n            2</td>\n",
       "    </tr>\n",
       "    <tr>\n",
       "      <th>2</th>\n",
       "      <td>$810,000</td>\n",
       "      <td>Villeray / St-Michel / Parc-Extension</td>\n",
       "      <td>8517-A-8515-8517 avenue de l'esplanade</td>\n",
       "      <td>Bedrooms\\n            8</td>\n",
       "    </tr>\n",
       "    <tr>\n",
       "      <th>3</th>\n",
       "      <td>NaN</td>\n",
       "      <td>NaN</td>\n",
       "      <td>NaN</td>\n",
       "      <td>NaN</td>\n",
       "    </tr>\n",
       "    <tr>\n",
       "      <th>4</th>\n",
       "      <td>$699,000</td>\n",
       "      <td>Pointe-Aux-Trembles / Montréal-Est</td>\n",
       "      <td>11901 Victoria</td>\n",
       "      <td>Bedrooms\\n            3</td>\n",
       "    </tr>\n",
       "  </tbody>\n",
       "</table>\n",
       "</div>"
      ],
      "text/plain": [
       "      price                                 region  \\\n",
       "0  $849,000      Mercier / Hochelaga / Maisonneuve   \n",
       "1  $420,000  Villeray / St-Michel / Parc-Extension   \n",
       "2  $810,000  Villeray / St-Michel / Parc-Extension   \n",
       "3       NaN                                    NaN   \n",
       "4  $699,000     Pointe-Aux-Trembles / Montréal-Est   \n",
       "\n",
       "                                  address                 bedrooms  \n",
       "0                5185-5187 RUE DESMARTEAU  Bedrooms\\n            3  \n",
       "1                 417-8635 RUE LAJEUNESSE  Bedrooms\\n            2  \n",
       "2  8517-A-8515-8517 avenue de l'esplanade  Bedrooms\\n            8  \n",
       "3                                     NaN                      NaN  \n",
       "4                          11901 Victoria  Bedrooms\\n            3  "
      ]
     },
     "execution_count": 4,
     "metadata": {},
     "output_type": "execute_result"
    }
   ],
   "source": [
    "data= data1.drop(labels= ['living area', 'lot_dimension', 'bathrooms'], axis = 1)\n",
    "data.head()"
   ]
  },
  {
   "cell_type": "code",
   "execution_count": 5,
   "metadata": {},
   "outputs": [
    {
     "name": "stdout",
     "output_type": "stream",
     "text": [
      "The above dataframe has 924 rows and 4 columns.\n"
     ]
    }
   ],
   "source": [
    "print('The above dataframe has', data.shape[0], 'rows and', data.shape[1], 'columns.')"
   ]
  },
  {
   "cell_type": "markdown",
   "metadata": {},
   "source": [
    "See the NaN values that we have in the dataframe."
   ]
  },
  {
   "cell_type": "code",
   "execution_count": 6,
   "metadata": {},
   "outputs": [
    {
     "data": {
      "text/plain": [
       "price       77\n",
       "region      77\n",
       "address     82\n",
       "bedrooms    77\n",
       "dtype: int64"
      ]
     },
     "execution_count": 6,
     "metadata": {},
     "output_type": "execute_result"
    }
   ],
   "source": [
    "data.isnull().sum()"
   ]
  },
  {
   "cell_type": "markdown",
   "metadata": {},
   "source": [
    "Drop the NaN values."
   ]
  },
  {
   "cell_type": "code",
   "execution_count": 7,
   "metadata": {},
   "outputs": [],
   "source": [
    "data.dropna(subset = ['price', 'address'], inplace= True)"
   ]
  },
  {
   "cell_type": "code",
   "execution_count": 8,
   "metadata": {},
   "outputs": [
    {
     "data": {
      "text/plain": [
       "price       0\n",
       "region      0\n",
       "address     0\n",
       "bedrooms    0\n",
       "dtype: int64"
      ]
     },
     "execution_count": 8,
     "metadata": {},
     "output_type": "execute_result"
    }
   ],
   "source": [
    "data.isnull().sum()"
   ]
  },
  {
   "cell_type": "markdown",
   "metadata": {},
   "source": [
    "Now there are no more NaN values in the dataframe."
   ]
  },
  {
   "cell_type": "code",
   "execution_count": 9,
   "metadata": {},
   "outputs": [
    {
     "name": "stdout",
     "output_type": "stream",
     "text": [
      "Now the new dataframe has 842 rows and 4 columns.\n"
     ]
    }
   ],
   "source": [
    "print('Now the new dataframe has', data.shape[0], 'rows and', data.shape[1], 'columns.')"
   ]
  },
  {
   "cell_type": "markdown",
   "metadata": {},
   "source": [
    "Below we remove the $ sign and commas from the **price** column."
   ]
  },
  {
   "cell_type": "code",
   "execution_count": 10,
   "metadata": {},
   "outputs": [
    {
     "data": {
      "text/plain": [
       "0      849000\n",
       "1      420000\n",
       "2      810000\n",
       "4      699000\n",
       "5      349000\n",
       "        ...  \n",
       "919    498000\n",
       "920    598900\n",
       "921    250000\n",
       "922    499500\n",
       "923    499000\n",
       "Name: price, Length: 842, dtype: object"
      ]
     },
     "execution_count": 10,
     "metadata": {},
     "output_type": "execute_result"
    }
   ],
   "source": [
    "price = data['price']\n",
    "price = price.apply(lambda x : x.replace('$', ''))\n",
    "price = price.apply(lambda x : x.replace(',', ''))\n",
    "data['price'] = price\n",
    "price"
   ]
  },
  {
   "cell_type": "markdown",
   "metadata": {},
   "source": [
    "Reset the index."
   ]
  },
  {
   "cell_type": "code",
   "execution_count": 11,
   "metadata": {},
   "outputs": [],
   "source": [
    "data = data.reset_index()\n",
    "data.drop(columns= ['index'], inplace= True)"
   ]
  },
  {
   "cell_type": "markdown",
   "metadata": {},
   "source": [
    "Keep only the entries in the **price** column that are digits."
   ]
  },
  {
   "cell_type": "code",
   "execution_count": 12,
   "metadata": {},
   "outputs": [
    {
     "data": {
      "text/html": [
       "<div>\n",
       "<style scoped>\n",
       "    .dataframe tbody tr th:only-of-type {\n",
       "        vertical-align: middle;\n",
       "    }\n",
       "\n",
       "    .dataframe tbody tr th {\n",
       "        vertical-align: top;\n",
       "    }\n",
       "\n",
       "    .dataframe thead th {\n",
       "        text-align: right;\n",
       "    }\n",
       "</style>\n",
       "<table border=\"1\" class=\"dataframe\">\n",
       "  <thead>\n",
       "    <tr style=\"text-align: right;\">\n",
       "      <th></th>\n",
       "      <th>price</th>\n",
       "      <th>region</th>\n",
       "      <th>address</th>\n",
       "      <th>bedrooms</th>\n",
       "    </tr>\n",
       "  </thead>\n",
       "  <tbody>\n",
       "    <tr>\n",
       "      <th>0</th>\n",
       "      <td>849000</td>\n",
       "      <td>Mercier / Hochelaga / Maisonneuve</td>\n",
       "      <td>5185-5187 RUE DESMARTEAU</td>\n",
       "      <td>Bedrooms\\n            3</td>\n",
       "    </tr>\n",
       "    <tr>\n",
       "      <th>1</th>\n",
       "      <td>420000</td>\n",
       "      <td>Villeray / St-Michel / Parc-Extension</td>\n",
       "      <td>417-8635 RUE LAJEUNESSE</td>\n",
       "      <td>Bedrooms\\n            2</td>\n",
       "    </tr>\n",
       "    <tr>\n",
       "      <th>2</th>\n",
       "      <td>810000</td>\n",
       "      <td>Villeray / St-Michel / Parc-Extension</td>\n",
       "      <td>8517-A-8515-8517 avenue de l'esplanade</td>\n",
       "      <td>Bedrooms\\n            8</td>\n",
       "    </tr>\n",
       "    <tr>\n",
       "      <th>3</th>\n",
       "      <td>699000</td>\n",
       "      <td>Pointe-Aux-Trembles / Montréal-Est</td>\n",
       "      <td>11901 Victoria</td>\n",
       "      <td>Bedrooms\\n            3</td>\n",
       "    </tr>\n",
       "    <tr>\n",
       "      <th>4</th>\n",
       "      <td>349000</td>\n",
       "      <td>Rosemont / La Petite Patrie</td>\n",
       "      <td>5919 rue Chabot</td>\n",
       "      <td>Bedrooms\\n            1</td>\n",
       "    </tr>\n",
       "  </tbody>\n",
       "</table>\n",
       "</div>"
      ],
      "text/plain": [
       "    price                                 region  \\\n",
       "0  849000      Mercier / Hochelaga / Maisonneuve   \n",
       "1  420000  Villeray / St-Michel / Parc-Extension   \n",
       "2  810000  Villeray / St-Michel / Parc-Extension   \n",
       "3  699000     Pointe-Aux-Trembles / Montréal-Est   \n",
       "4  349000            Rosemont / La Petite Patrie   \n",
       "\n",
       "                                  address                 bedrooms  \n",
       "0                5185-5187 RUE DESMARTEAU  Bedrooms\\n            3  \n",
       "1                 417-8635 RUE LAJEUNESSE  Bedrooms\\n            2  \n",
       "2  8517-A-8515-8517 avenue de l'esplanade  Bedrooms\\n            8  \n",
       "3                          11901 Victoria  Bedrooms\\n            3  \n",
       "4                         5919 rue Chabot  Bedrooms\\n            1  "
      ]
     },
     "execution_count": 12,
     "metadata": {},
     "output_type": "execute_result"
    }
   ],
   "source": [
    "data['price'] = data['price'].str.extract(r'(\\d+)')\n",
    "data.head()"
   ]
  },
  {
   "cell_type": "markdown",
   "metadata": {},
   "source": [
    "Again reset the index."
   ]
  },
  {
   "cell_type": "code",
   "execution_count": 13,
   "metadata": {},
   "outputs": [
    {
     "name": "stdout",
     "output_type": "stream",
     "text": [
      "Now the new dataframe has 842 rows and 4 columns.\n"
     ]
    }
   ],
   "source": [
    "data = data.reset_index()\n",
    "data.drop(columns= ['index'], inplace= True)\n",
    "print('Now the new dataframe has', data.shape[0], 'rows and', data.shape[1], 'columns.')"
   ]
  },
  {
   "cell_type": "code",
   "execution_count": 14,
   "metadata": {},
   "outputs": [
    {
     "data": {
      "text/plain": [
       "price       object\n",
       "region      object\n",
       "address     object\n",
       "bedrooms    object\n",
       "dtype: object"
      ]
     },
     "execution_count": 14,
     "metadata": {},
     "output_type": "execute_result"
    }
   ],
   "source": [
    "data.dtypes"
   ]
  },
  {
   "cell_type": "markdown",
   "metadata": {},
   "source": [
    "Change data type of the **price** column."
   ]
  },
  {
   "cell_type": "code",
   "execution_count": 15,
   "metadata": {},
   "outputs": [],
   "source": [
    "data = data.astype({'price' : 'float'})"
   ]
  },
  {
   "cell_type": "code",
   "execution_count": 16,
   "metadata": {},
   "outputs": [
    {
     "data": {
      "text/plain": [
       "price       float64\n",
       "region       object\n",
       "address      object\n",
       "bedrooms     object\n",
       "dtype: object"
      ]
     },
     "execution_count": 16,
     "metadata": {},
     "output_type": "execute_result"
    }
   ],
   "source": [
    "data.dtypes"
   ]
  },
  {
   "cell_type": "code",
   "execution_count": 17,
   "metadata": {},
   "outputs": [
    {
     "data": {
      "text/html": [
       "<div>\n",
       "<style scoped>\n",
       "    .dataframe tbody tr th:only-of-type {\n",
       "        vertical-align: middle;\n",
       "    }\n",
       "\n",
       "    .dataframe tbody tr th {\n",
       "        vertical-align: top;\n",
       "    }\n",
       "\n",
       "    .dataframe thead th {\n",
       "        text-align: right;\n",
       "    }\n",
       "</style>\n",
       "<table border=\"1\" class=\"dataframe\">\n",
       "  <thead>\n",
       "    <tr style=\"text-align: right;\">\n",
       "      <th></th>\n",
       "      <th>price</th>\n",
       "      <th>region</th>\n",
       "      <th>address</th>\n",
       "      <th>bedrooms</th>\n",
       "    </tr>\n",
       "  </thead>\n",
       "  <tbody>\n",
       "    <tr>\n",
       "      <th>0</th>\n",
       "      <td>849000.0</td>\n",
       "      <td>Mercier / Hochelaga / Maisonneuve</td>\n",
       "      <td>5185-5187 RUE DESMARTEAU</td>\n",
       "      <td>Bedrooms\\n            3</td>\n",
       "    </tr>\n",
       "    <tr>\n",
       "      <th>1</th>\n",
       "      <td>420000.0</td>\n",
       "      <td>Villeray / St-Michel / Parc-Extension</td>\n",
       "      <td>417-8635 RUE LAJEUNESSE</td>\n",
       "      <td>Bedrooms\\n            2</td>\n",
       "    </tr>\n",
       "    <tr>\n",
       "      <th>2</th>\n",
       "      <td>810000.0</td>\n",
       "      <td>Villeray / St-Michel / Parc-Extension</td>\n",
       "      <td>8517-A-8515-8517 avenue de l'esplanade</td>\n",
       "      <td>Bedrooms\\n            8</td>\n",
       "    </tr>\n",
       "    <tr>\n",
       "      <th>3</th>\n",
       "      <td>699000.0</td>\n",
       "      <td>Pointe-Aux-Trembles / Montréal-Est</td>\n",
       "      <td>11901 Victoria</td>\n",
       "      <td>Bedrooms\\n            3</td>\n",
       "    </tr>\n",
       "    <tr>\n",
       "      <th>4</th>\n",
       "      <td>349000.0</td>\n",
       "      <td>Rosemont / La Petite Patrie</td>\n",
       "      <td>5919 rue Chabot</td>\n",
       "      <td>Bedrooms\\n            1</td>\n",
       "    </tr>\n",
       "  </tbody>\n",
       "</table>\n",
       "</div>"
      ],
      "text/plain": [
       "      price                                 region  \\\n",
       "0  849000.0      Mercier / Hochelaga / Maisonneuve   \n",
       "1  420000.0  Villeray / St-Michel / Parc-Extension   \n",
       "2  810000.0  Villeray / St-Michel / Parc-Extension   \n",
       "3  699000.0     Pointe-Aux-Trembles / Montréal-Est   \n",
       "4  349000.0            Rosemont / La Petite Patrie   \n",
       "\n",
       "                                  address                 bedrooms  \n",
       "0                5185-5187 RUE DESMARTEAU  Bedrooms\\n            3  \n",
       "1                 417-8635 RUE LAJEUNESSE  Bedrooms\\n            2  \n",
       "2  8517-A-8515-8517 avenue de l'esplanade  Bedrooms\\n            8  \n",
       "3                          11901 Victoria  Bedrooms\\n            3  \n",
       "4                         5919 rue Chabot  Bedrooms\\n            1  "
      ]
     },
     "execution_count": 17,
     "metadata": {},
     "output_type": "execute_result"
    }
   ],
   "source": [
    "data.head()"
   ]
  },
  {
   "cell_type": "markdown",
   "metadata": {},
   "source": [
    "Keep only the digit entries in the **bedrooms** and **bathrooms** column."
   ]
  },
  {
   "cell_type": "code",
   "execution_count": 18,
   "metadata": {},
   "outputs": [],
   "source": [
    "data['bedrooms'] = data['bedrooms'].str.extract(r'(\\d+)')"
   ]
  },
  {
   "cell_type": "code",
   "execution_count": 19,
   "metadata": {},
   "outputs": [
    {
     "name": "stdout",
     "output_type": "stream",
     "text": [
      "Now the new dataframe has 842 rows and 4 columns.\n"
     ]
    }
   ],
   "source": [
    "print('Now the new dataframe has', data.shape[0], 'rows and', data.shape[1], 'columns.')"
   ]
  },
  {
   "cell_type": "markdown",
   "metadata": {},
   "source": [
    "Change datatype of the **bedrooms** and **bathrooms** column."
   ]
  },
  {
   "cell_type": "code",
   "execution_count": 20,
   "metadata": {},
   "outputs": [
    {
     "data": {
      "text/plain": [
       "price       float64\n",
       "region       object\n",
       "address      object\n",
       "bedrooms      int64\n",
       "dtype: object"
      ]
     },
     "execution_count": 20,
     "metadata": {},
     "output_type": "execute_result"
    }
   ],
   "source": [
    "data = data.astype({'bedrooms' : 'int'})\n",
    "data.dtypes"
   ]
  },
  {
   "cell_type": "code",
   "execution_count": 21,
   "metadata": {},
   "outputs": [
    {
     "name": "stdout",
     "output_type": "stream",
     "text": [
      "7\n",
      "(813, 4)\n"
     ]
    }
   ],
   "source": [
    "data = data[data['bedrooms'] < 8]\n",
    "print(max(data.bedrooms))\n",
    "print(data.shape)"
   ]
  },
  {
   "cell_type": "code",
   "execution_count": 22,
   "metadata": {},
   "outputs": [
    {
     "data": {
      "text/plain": [
       "price       float64\n",
       "region       object\n",
       "address      object\n",
       "bedrooms      int64\n",
       "dtype: object"
      ]
     },
     "execution_count": 22,
     "metadata": {},
     "output_type": "execute_result"
    }
   ],
   "source": [
    "data.dtypes"
   ]
  },
  {
   "cell_type": "code",
   "execution_count": 23,
   "metadata": {},
   "outputs": [
    {
     "name": "stdout",
     "output_type": "stream",
     "text": [
      "The final dataframe has 813 rows and 4 columns.\n"
     ]
    }
   ],
   "source": [
    "print('The final dataframe has', data.shape[0], 'rows and', data.shape[1], 'columns.')"
   ]
  },
  {
   "cell_type": "code",
   "execution_count": 24,
   "metadata": {},
   "outputs": [
    {
     "data": {
      "text/html": [
       "<div>\n",
       "<style scoped>\n",
       "    .dataframe tbody tr th:only-of-type {\n",
       "        vertical-align: middle;\n",
       "    }\n",
       "\n",
       "    .dataframe tbody tr th {\n",
       "        vertical-align: top;\n",
       "    }\n",
       "\n",
       "    .dataframe thead th {\n",
       "        text-align: right;\n",
       "    }\n",
       "</style>\n",
       "<table border=\"1\" class=\"dataframe\">\n",
       "  <thead>\n",
       "    <tr style=\"text-align: right;\">\n",
       "      <th></th>\n",
       "      <th>price</th>\n",
       "      <th>region</th>\n",
       "      <th>address</th>\n",
       "      <th>bedrooms</th>\n",
       "    </tr>\n",
       "  </thead>\n",
       "  <tbody>\n",
       "    <tr>\n",
       "      <th>163</th>\n",
       "      <td>987000.0</td>\n",
       "      <td>Rosemont / La Petite Patrie</td>\n",
       "      <td>6560 29e Avenue</td>\n",
       "      <td>7</td>\n",
       "    </tr>\n",
       "    <tr>\n",
       "      <th>514</th>\n",
       "      <td>925000.0</td>\n",
       "      <td>Mercier / Hochelaga / Maisonneuve</td>\n",
       "      <td>9530-9532-9534, rue de Marseille</td>\n",
       "      <td>7</td>\n",
       "    </tr>\n",
       "    <tr>\n",
       "      <th>583</th>\n",
       "      <td>1055000.0</td>\n",
       "      <td>Pierrefonds / Roxboro</td>\n",
       "      <td>11662-11664-11666, rue Pavillon</td>\n",
       "      <td>7</td>\n",
       "    </tr>\n",
       "    <tr>\n",
       "      <th>736</th>\n",
       "      <td>2995000.0</td>\n",
       "      <td>Le Plateau-Mont-Royal</td>\n",
       "      <td>4486 rue Drolet</td>\n",
       "      <td>7</td>\n",
       "    </tr>\n",
       "    <tr>\n",
       "      <th>178</th>\n",
       "      <td>950000.0</td>\n",
       "      <td>Anjou</td>\n",
       "      <td>6080-6082-6078, boulevard des Galeries d'Anjou</td>\n",
       "      <td>7</td>\n",
       "    </tr>\n",
       "    <tr>\n",
       "      <th>...</th>\n",
       "      <td>...</td>\n",
       "      <td>...</td>\n",
       "      <td>...</td>\n",
       "      <td>...</td>\n",
       "    </tr>\n",
       "    <tr>\n",
       "      <th>685</th>\n",
       "      <td>399500.0</td>\n",
       "      <td>Ville-Marie (Centre-Ville et Vieux Mtl)</td>\n",
       "      <td>331-1414 rue Chomedey</td>\n",
       "      <td>1</td>\n",
       "    </tr>\n",
       "    <tr>\n",
       "      <th>687</th>\n",
       "      <td>348888.0</td>\n",
       "      <td>Ville-Marie (Centre-Ville et Vieux Mtl)</td>\n",
       "      <td>557-98 rue Charlotte</td>\n",
       "      <td>1</td>\n",
       "    </tr>\n",
       "    <tr>\n",
       "      <th>221</th>\n",
       "      <td>395000.0</td>\n",
       "      <td>Ville-Marie (Centre-Ville et Vieux Mtl)</td>\n",
       "      <td>304-1061 rue Saint-Alexandre</td>\n",
       "      <td>1</td>\n",
       "    </tr>\n",
       "    <tr>\n",
       "      <th>387</th>\n",
       "      <td>280000.0</td>\n",
       "      <td>Mercier / Hochelaga / Maisonneuve</td>\n",
       "      <td>9201 rue Notre-Dame Est - Unité #311 - Les Cou...</td>\n",
       "      <td>1</td>\n",
       "    </tr>\n",
       "    <tr>\n",
       "      <th>662</th>\n",
       "      <td>385000.0</td>\n",
       "      <td>Ville-Marie (Centre-Ville et Vieux Mtl)</td>\n",
       "      <td>606-2000 boulevard René-Lévesque Ouest</td>\n",
       "      <td>1</td>\n",
       "    </tr>\n",
       "  </tbody>\n",
       "</table>\n",
       "<p>813 rows × 4 columns</p>\n",
       "</div>"
      ],
      "text/plain": [
       "         price                                   region  \\\n",
       "163   987000.0              Rosemont / La Petite Patrie   \n",
       "514   925000.0        Mercier / Hochelaga / Maisonneuve   \n",
       "583  1055000.0                    Pierrefonds / Roxboro   \n",
       "736  2995000.0                    Le Plateau-Mont-Royal   \n",
       "178   950000.0                                    Anjou   \n",
       "..         ...                                      ...   \n",
       "685   399500.0  Ville-Marie (Centre-Ville et Vieux Mtl)   \n",
       "687   348888.0  Ville-Marie (Centre-Ville et Vieux Mtl)   \n",
       "221   395000.0  Ville-Marie (Centre-Ville et Vieux Mtl)   \n",
       "387   280000.0        Mercier / Hochelaga / Maisonneuve   \n",
       "662   385000.0  Ville-Marie (Centre-Ville et Vieux Mtl)   \n",
       "\n",
       "                                               address  bedrooms  \n",
       "163                                    6560 29e Avenue         7  \n",
       "514                   9530-9532-9534, rue de Marseille         7  \n",
       "583                    11662-11664-11666, rue Pavillon         7  \n",
       "736                                    4486 rue Drolet         7  \n",
       "178     6080-6082-6078, boulevard des Galeries d'Anjou         7  \n",
       "..                                                 ...       ...  \n",
       "685                              331-1414 rue Chomedey         1  \n",
       "687                               557-98 rue Charlotte         1  \n",
       "221                       304-1061 rue Saint-Alexandre         1  \n",
       "387  9201 rue Notre-Dame Est - Unité #311 - Les Cou...         1  \n",
       "662             606-2000 boulevard René-Lévesque Ouest         1  \n",
       "\n",
       "[813 rows x 4 columns]"
      ]
     },
     "execution_count": 24,
     "metadata": {},
     "output_type": "execute_result"
    }
   ],
   "source": [
    "data.sort_values(by = 'bedrooms', ascending= False)"
   ]
  },
  {
   "cell_type": "code",
   "execution_count": 25,
   "metadata": {},
   "outputs": [],
   "source": [
    "# data.to_excel(excel_writer= pwd + \"/clean_Montreal_property_listings.xlsx\",\n",
    "# index = False)"
   ]
  },
  {
   "cell_type": "code",
   "execution_count": 26,
   "metadata": {},
   "outputs": [
    {
     "name": "stdout",
     "output_type": "stream",
     "text": [
      "2022-04-09\n"
     ]
    }
   ],
   "source": [
    "print(date.today())"
   ]
  },
  {
   "cell_type": "code",
   "execution_count": 27,
   "metadata": {},
   "outputs": [
    {
     "name": "stdout",
     "output_type": "stream",
     "text": [
      "Total code runtime (in seconds) excluding the time to load packages is 0.763718843460083\n"
     ]
    }
   ],
   "source": [
    "print('Total code runtime (in seconds) excluding the time to load packages is', time.time()-t0)"
   ]
  },
  {
   "cell_type": "markdown",
   "metadata": {},
   "source": [
    "**Author:**\n",
    "\n",
    "**Mangaljit Singh**"
   ]
  }
 ],
 "metadata": {
  "interpreter": {
   "hash": "07ba029a63dcfa286f28eb3e41855caf70e98b697d744d736f4a475db6687448"
  },
  "kernelspec": {
   "display_name": "Python 3 (ipykernel)",
   "language": "python",
   "name": "python3"
  },
  "language_info": {
   "codemirror_mode": {
    "name": "ipython",
    "version": 3
   },
   "file_extension": ".py",
   "mimetype": "text/x-python",
   "name": "python",
   "nbconvert_exporter": "python",
   "pygments_lexer": "ipython3",
   "version": "3.9.7"
  }
 },
 "nbformat": 4,
 "nbformat_minor": 4
}
